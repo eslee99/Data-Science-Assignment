{
  "nbformat": 4,
  "nbformat_minor": 0,
  "metadata": {
    "colab": {
      "name": "Stock Price Prediction.ipynb",
      "provenance": [],
      "collapsed_sections": [],
      "toc_visible": true
    },
    "kernelspec": {
      "name": "python3",
      "display_name": "Python 3"
    }
  },
  "cells": [
    {
      "cell_type": "markdown",
      "metadata": {
        "id": "J35QrBovIPmN",
        "colab_type": "text"
      },
      "source": [
        "# **Stock Price Prediction**"
      ]
    },
    {
      "cell_type": "markdown",
      "metadata": {
        "id": "Uu537Wl1ekEX",
        "colab_type": "text"
      },
      "source": [
        "##**1. Business Understanding**"
      ]
    },
    {
      "cell_type": "markdown",
      "metadata": {
        "id": "d6j0wY_kyZ2o",
        "colab_type": "text"
      },
      "source": [
        "**Background**\n",
        " \n",
        "> A company is a social networking platform that helps you to easily interact and communicate online with your family and friends. Today this company is the largest social network in the world, with over 1 billion users worldwide. Over the past few weeks, social media use has increased as more people are forced to stay at home amid the continuing Covid-19 pandemic. Recent studies have reported increased interaction among social media giants. The business has recently announced a rise in messaging across its stock price of more than 50 percent. However, it has not been repeated in the financials of the firm. The major reason for this company's finances may be struggling is that businesses don't spend much on ads like they used to do before the COVID virus. Instead, several firms are retaining cash to survive the looming uncertainty. \n",
        " \n",
        " \n",
        "**objectives**\n",
        "> In Stock Price Prediction, the aim is *to predict the future value of the financial stocks of a company and the accuracy of the stock prediction* so that user can know the insight from the data. The recent trend in stock market prediction technologies is the use of deep machine learning and machine learning which makes predictions based on the values of current stock market indices by training on their previous values. Deep Machine learning and machine learning itself employs different models to make predictions easier and authentic. \n",
        " \n",
        ">The paper focuses on the use of RNN and LSTM based to predict stock values. Factors considered are open, close, low, high, and volume.\n",
        " \n",
        "**Constraints**\n",
        ">Stock price prediction is basically defined as trying to determine the stock value and offer a robust idea for the people to know and predict the market and the stock prices. It is generally presented using the quarterly financial ratio using the dataset. Thus, relying on a single model to predict data may not be sufficient and can give a result which is inaccurate. Hence, we are contemplating the study of deep machine learning and machine learning with various models to predict stock trends.  \n",
        " \n",
        "**Goal**\n",
        ">To predict the dataset we use various models to test data accuracy such as … and compare all the models to find out the most suitable model.\n",
        "\n",
        "\n"
      ]
    },
    {
      "cell_type": "markdown",
      "metadata": {
        "id": "ROOTRXLGensJ",
        "colab_type": "text"
      },
      "source": [
        "##**2. Data Understanding**\n",
        "The dataset will be taken from the website called “Yahoo! Finance” that has recorded the real-time stock price of different companies. You can download [here](https://finance.yahoo.com/quote/FB/history?period1=1483228800&period2=1599868800&interval=1d&filter=history&frequency=1d)."
      ]
    },
    {
      "cell_type": "markdown",
      "metadata": {
        "id": "vLPVPJcJjipt",
        "colab_type": "text"
      },
      "source": [
        "###**2.1. Import Package and Load Data**"
      ]
    },
    {
      "cell_type": "code",
      "metadata": {
        "id": "bvk5mi-aIhXh",
        "colab_type": "code",
        "colab": {
          "resources": {
            "http://localhost:8080/nbextensions/google.colab/files.js": {
              "data": "Ly8gQ29weXJpZ2h0IDIwMTcgR29vZ2xlIExMQwovLwovLyBMaWNlbnNlZCB1bmRlciB0aGUgQXBhY2hlIExpY2Vuc2UsIFZlcnNpb24gMi4wICh0aGUgIkxpY2Vuc2UiKTsKLy8geW91IG1heSBub3QgdXNlIHRoaXMgZmlsZSBleGNlcHQgaW4gY29tcGxpYW5jZSB3aXRoIHRoZSBMaWNlbnNlLgovLyBZb3UgbWF5IG9idGFpbiBhIGNvcHkgb2YgdGhlIExpY2Vuc2UgYXQKLy8KLy8gICAgICBodHRwOi8vd3d3LmFwYWNoZS5vcmcvbGljZW5zZXMvTElDRU5TRS0yLjAKLy8KLy8gVW5sZXNzIHJlcXVpcmVkIGJ5IGFwcGxpY2FibGUgbGF3IG9yIGFncmVlZCB0byBpbiB3cml0aW5nLCBzb2Z0d2FyZQovLyBkaXN0cmlidXRlZCB1bmRlciB0aGUgTGljZW5zZSBpcyBkaXN0cmlidXRlZCBvbiBhbiAiQVMgSVMiIEJBU0lTLAovLyBXSVRIT1VUIFdBUlJBTlRJRVMgT1IgQ09ORElUSU9OUyBPRiBBTlkgS0lORCwgZWl0aGVyIGV4cHJlc3Mgb3IgaW1wbGllZC4KLy8gU2VlIHRoZSBMaWNlbnNlIGZvciB0aGUgc3BlY2lmaWMgbGFuZ3VhZ2UgZ292ZXJuaW5nIHBlcm1pc3Npb25zIGFuZAovLyBsaW1pdGF0aW9ucyB1bmRlciB0aGUgTGljZW5zZS4KCi8qKgogKiBAZmlsZW92ZXJ2aWV3IEhlbHBlcnMgZm9yIGdvb2dsZS5jb2xhYiBQeXRob24gbW9kdWxlLgogKi8KKGZ1bmN0aW9uKHNjb3BlKSB7CmZ1bmN0aW9uIHNwYW4odGV4dCwgc3R5bGVBdHRyaWJ1dGVzID0ge30pIHsKICBjb25zdCBlbGVtZW50ID0gZG9jdW1lbnQuY3JlYXRlRWxlbWVudCgnc3BhbicpOwogIGVsZW1lbnQudGV4dENvbnRlbnQgPSB0ZXh0OwogIGZvciAoY29uc3Qga2V5IG9mIE9iamVjdC5rZXlzKHN0eWxlQXR0cmlidXRlcykpIHsKICAgIGVsZW1lbnQuc3R5bGVba2V5XSA9IHN0eWxlQXR0cmlidXRlc1trZXldOwogIH0KICByZXR1cm4gZWxlbWVudDsKfQoKLy8gTWF4IG51bWJlciBvZiBieXRlcyB3aGljaCB3aWxsIGJlIHVwbG9hZGVkIGF0IGEgdGltZS4KY29uc3QgTUFYX1BBWUxPQURfU0laRSA9IDEwMCAqIDEwMjQ7CgpmdW5jdGlvbiBfdXBsb2FkRmlsZXMoaW5wdXRJZCwgb3V0cHV0SWQpIHsKICBjb25zdCBzdGVwcyA9IHVwbG9hZEZpbGVzU3RlcChpbnB1dElkLCBvdXRwdXRJZCk7CiAgY29uc3Qgb3V0cHV0RWxlbWVudCA9IGRvY3VtZW50LmdldEVsZW1lbnRCeUlkKG91dHB1dElkKTsKICAvLyBDYWNoZSBzdGVwcyBvbiB0aGUgb3V0cHV0RWxlbWVudCB0byBtYWtlIGl0IGF2YWlsYWJsZSBmb3IgdGhlIG5leHQgY2FsbAogIC8vIHRvIHVwbG9hZEZpbGVzQ29udGludWUgZnJvbSBQeXRob24uCiAgb3V0cHV0RWxlbWVudC5zdGVwcyA9IHN0ZXBzOwoKICByZXR1cm4gX3VwbG9hZEZpbGVzQ29udGludWUob3V0cHV0SWQpOwp9CgovLyBUaGlzIGlzIHJvdWdobHkgYW4gYXN5bmMgZ2VuZXJhdG9yIChub3Qgc3VwcG9ydGVkIGluIHRoZSBicm93c2VyIHlldCksCi8vIHdoZXJlIHRoZXJlIGFyZSBtdWx0aXBsZSBhc3luY2hyb25vdXMgc3RlcHMgYW5kIHRoZSBQeXRob24gc2lkZSBpcyBnb2luZwovLyB0byBwb2xsIGZvciBjb21wbGV0aW9uIG9mIGVhY2ggc3RlcC4KLy8gVGhpcyB1c2VzIGEgUHJvbWlzZSB0byBibG9jayB0aGUgcHl0aG9uIHNpZGUgb24gY29tcGxldGlvbiBvZiBlYWNoIHN0ZXAsCi8vIHRoZW4gcGFzc2VzIHRoZSByZXN1bHQgb2YgdGhlIHByZXZpb3VzIHN0ZXAgYXMgdGhlIGlucHV0IHRvIHRoZSBuZXh0IHN0ZXAuCmZ1bmN0aW9uIF91cGxvYWRGaWxlc0NvbnRpbnVlKG91dHB1dElkKSB7CiAgY29uc3Qgb3V0cHV0RWxlbWVudCA9IGRvY3VtZW50LmdldEVsZW1lbnRCeUlkKG91dHB1dElkKTsKICBjb25zdCBzdGVwcyA9IG91dHB1dEVsZW1lbnQuc3RlcHM7CgogIGNvbnN0IG5leHQgPSBzdGVwcy5uZXh0KG91dHB1dEVsZW1lbnQubGFzdFByb21pc2VWYWx1ZSk7CiAgcmV0dXJuIFByb21pc2UucmVzb2x2ZShuZXh0LnZhbHVlLnByb21pc2UpLnRoZW4oKHZhbHVlKSA9PiB7CiAgICAvLyBDYWNoZSB0aGUgbGFzdCBwcm9taXNlIHZhbHVlIHRvIG1ha2UgaXQgYXZhaWxhYmxlIHRvIHRoZSBuZXh0CiAgICAvLyBzdGVwIG9mIHRoZSBnZW5lcmF0b3IuCiAgICBvdXRwdXRFbGVtZW50Lmxhc3RQcm9taXNlVmFsdWUgPSB2YWx1ZTsKICAgIHJldHVybiBuZXh0LnZhbHVlLnJlc3BvbnNlOwogIH0pOwp9CgovKioKICogR2VuZXJhdG9yIGZ1bmN0aW9uIHdoaWNoIGlzIGNhbGxlZCBiZXR3ZWVuIGVhY2ggYXN5bmMgc3RlcCBvZiB0aGUgdXBsb2FkCiAqIHByb2Nlc3MuCiAqIEBwYXJhbSB7c3RyaW5nfSBpbnB1dElkIEVsZW1lbnQgSUQgb2YgdGhlIGlucHV0IGZpbGUgcGlja2VyIGVsZW1lbnQuCiAqIEBwYXJhbSB7c3RyaW5nfSBvdXRwdXRJZCBFbGVtZW50IElEIG9mIHRoZSBvdXRwdXQgZGlzcGxheS4KICogQHJldHVybiB7IUl0ZXJhYmxlPCFPYmplY3Q+fSBJdGVyYWJsZSBvZiBuZXh0IHN0ZXBzLgogKi8KZnVuY3Rpb24qIHVwbG9hZEZpbGVzU3RlcChpbnB1dElkLCBvdXRwdXRJZCkgewogIGNvbnN0IGlucHV0RWxlbWVudCA9IGRvY3VtZW50LmdldEVsZW1lbnRCeUlkKGlucHV0SWQpOwogIGlucHV0RWxlbWVudC5kaXNhYmxlZCA9IGZhbHNlOwoKICBjb25zdCBvdXRwdXRFbGVtZW50ID0gZG9jdW1lbnQuZ2V0RWxlbWVudEJ5SWQob3V0cHV0SWQpOwogIG91dHB1dEVsZW1lbnQuaW5uZXJIVE1MID0gJyc7CgogIGNvbnN0IHBpY2tlZFByb21pc2UgPSBuZXcgUHJvbWlzZSgocmVzb2x2ZSkgPT4gewogICAgaW5wdXRFbGVtZW50LmFkZEV2ZW50TGlzdGVuZXIoJ2NoYW5nZScsIChlKSA9PiB7CiAgICAgIHJlc29sdmUoZS50YXJnZXQuZmlsZXMpOwogICAgfSk7CiAgfSk7CgogIGNvbnN0IGNhbmNlbCA9IGRvY3VtZW50LmNyZWF0ZUVsZW1lbnQoJ2J1dHRvbicpOwogIGlucHV0RWxlbWVudC5wYXJlbnRFbGVtZW50LmFwcGVuZENoaWxkKGNhbmNlbCk7CiAgY2FuY2VsLnRleHRDb250ZW50ID0gJ0NhbmNlbCB1cGxvYWQnOwogIGNvbnN0IGNhbmNlbFByb21pc2UgPSBuZXcgUHJvbWlzZSgocmVzb2x2ZSkgPT4gewogICAgY2FuY2VsLm9uY2xpY2sgPSAoKSA9PiB7CiAgICAgIHJlc29sdmUobnVsbCk7CiAgICB9OwogIH0pOwoKICAvLyBXYWl0IGZvciB0aGUgdXNlciB0byBwaWNrIHRoZSBmaWxlcy4KICBjb25zdCBmaWxlcyA9IHlpZWxkIHsKICAgIHByb21pc2U6IFByb21pc2UucmFjZShbcGlja2VkUHJvbWlzZSwgY2FuY2VsUHJvbWlzZV0pLAogICAgcmVzcG9uc2U6IHsKICAgICAgYWN0aW9uOiAnc3RhcnRpbmcnLAogICAgfQogIH07CgogIGNhbmNlbC5yZW1vdmUoKTsKCiAgLy8gRGlzYWJsZSB0aGUgaW5wdXQgZWxlbWVudCBzaW5jZSBmdXJ0aGVyIHBpY2tzIGFyZSBub3QgYWxsb3dlZC4KICBpbnB1dEVsZW1lbnQuZGlzYWJsZWQgPSB0cnVlOwoKICBpZiAoIWZpbGVzKSB7CiAgICByZXR1cm4gewogICAgICByZXNwb25zZTogewogICAgICAgIGFjdGlvbjogJ2NvbXBsZXRlJywKICAgICAgfQogICAgfTsKICB9CgogIGZvciAoY29uc3QgZmlsZSBvZiBmaWxlcykgewogICAgY29uc3QgbGkgPSBkb2N1bWVudC5jcmVhdGVFbGVtZW50KCdsaScpOwogICAgbGkuYXBwZW5kKHNwYW4oZmlsZS5uYW1lLCB7Zm9udFdlaWdodDogJ2JvbGQnfSkpOwogICAgbGkuYXBwZW5kKHNwYW4oCiAgICAgICAgYCgke2ZpbGUudHlwZSB8fCAnbi9hJ30pIC0gJHtmaWxlLnNpemV9IGJ5dGVzLCBgICsKICAgICAgICBgbGFzdCBtb2RpZmllZDogJHsKICAgICAgICAgICAgZmlsZS5sYXN0TW9kaWZpZWREYXRlID8gZmlsZS5sYXN0TW9kaWZpZWREYXRlLnRvTG9jYWxlRGF0ZVN0cmluZygpIDoKICAgICAgICAgICAgICAgICAgICAgICAgICAgICAgICAgICAgJ24vYSd9IC0gYCkpOwogICAgY29uc3QgcGVyY2VudCA9IHNwYW4oJzAlIGRvbmUnKTsKICAgIGxpLmFwcGVuZENoaWxkKHBlcmNlbnQpOwoKICAgIG91dHB1dEVsZW1lbnQuYXBwZW5kQ2hpbGQobGkpOwoKICAgIGNvbnN0IGZpbGVEYXRhUHJvbWlzZSA9IG5ldyBQcm9taXNlKChyZXNvbHZlKSA9PiB7CiAgICAgIGNvbnN0IHJlYWRlciA9IG5ldyBGaWxlUmVhZGVyKCk7CiAgICAgIHJlYWRlci5vbmxvYWQgPSAoZSkgPT4gewogICAgICAgIHJlc29sdmUoZS50YXJnZXQucmVzdWx0KTsKICAgICAgfTsKICAgICAgcmVhZGVyLnJlYWRBc0FycmF5QnVmZmVyKGZpbGUpOwogICAgfSk7CiAgICAvLyBXYWl0IGZvciB0aGUgZGF0YSB0byBiZSByZWFkeS4KICAgIGxldCBmaWxlRGF0YSA9IHlpZWxkIHsKICAgICAgcHJvbWlzZTogZmlsZURhdGFQcm9taXNlLAogICAgICByZXNwb25zZTogewogICAgICAgIGFjdGlvbjogJ2NvbnRpbnVlJywKICAgICAgfQogICAgfTsKCiAgICAvLyBVc2UgYSBjaHVua2VkIHNlbmRpbmcgdG8gYXZvaWQgbWVzc2FnZSBzaXplIGxpbWl0cy4gU2VlIGIvNjIxMTU2NjAuCiAgICBsZXQgcG9zaXRpb24gPSAwOwogICAgd2hpbGUgKHBvc2l0aW9uIDwgZmlsZURhdGEuYnl0ZUxlbmd0aCkgewogICAgICBjb25zdCBsZW5ndGggPSBNYXRoLm1pbihmaWxlRGF0YS5ieXRlTGVuZ3RoIC0gcG9zaXRpb24sIE1BWF9QQVlMT0FEX1NJWkUpOwogICAgICBjb25zdCBjaHVuayA9IG5ldyBVaW50OEFycmF5KGZpbGVEYXRhLCBwb3NpdGlvbiwgbGVuZ3RoKTsKICAgICAgcG9zaXRpb24gKz0gbGVuZ3RoOwoKICAgICAgY29uc3QgYmFzZTY0ID0gYnRvYShTdHJpbmcuZnJvbUNoYXJDb2RlLmFwcGx5KG51bGwsIGNodW5rKSk7CiAgICAgIHlpZWxkIHsKICAgICAgICByZXNwb25zZTogewogICAgICAgICAgYWN0aW9uOiAnYXBwZW5kJywKICAgICAgICAgIGZpbGU6IGZpbGUubmFtZSwKICAgICAgICAgIGRhdGE6IGJhc2U2NCwKICAgICAgICB9LAogICAgICB9OwogICAgICBwZXJjZW50LnRleHRDb250ZW50ID0KICAgICAgICAgIGAke01hdGgucm91bmQoKHBvc2l0aW9uIC8gZmlsZURhdGEuYnl0ZUxlbmd0aCkgKiAxMDApfSUgZG9uZWA7CiAgICB9CiAgfQoKICAvLyBBbGwgZG9uZS4KICB5aWVsZCB7CiAgICByZXNwb25zZTogewogICAgICBhY3Rpb246ICdjb21wbGV0ZScsCiAgICB9CiAgfTsKfQoKc2NvcGUuZ29vZ2xlID0gc2NvcGUuZ29vZ2xlIHx8IHt9OwpzY29wZS5nb29nbGUuY29sYWIgPSBzY29wZS5nb29nbGUuY29sYWIgfHwge307CnNjb3BlLmdvb2dsZS5jb2xhYi5fZmlsZXMgPSB7CiAgX3VwbG9hZEZpbGVzLAogIF91cGxvYWRGaWxlc0NvbnRpbnVlLAp9Owp9KShzZWxmKTsK",
              "ok": true,
              "headers": [
                [
                  "content-type",
                  "application/javascript"
                ]
              ],
              "status": 200,
              "status_text": ""
            }
          },
          "base_uri": "https://localhost:8080/",
          "height": 73
        },
        "outputId": "9cb1a50f-0ece-4656-cb71-06156042534a"
      },
      "source": [
        "#import the packages\n",
        "import numpy as np\n",
        "import pandas as pd\n",
        "import io\n",
        "import matplotlib.pyplot as plt\n",
        "from sklearn.tree import DecisionTreeRegressor\n",
        "from sklearn.linear_model import LinearRegression\n",
        "from sklearn.model_selection import train_test_split\n",
        "from tensorflow.keras import Sequential\n",
        "from tensorflow.keras.layers import Dense, LSTM, Dropout\n",
        "\n",
        "#Load the data\n",
        "from google.colab import files # Use to load data on Google Colab\n",
        "uploaded = files.upload() # Use to load data on Google Colab\n",
        "df = pd.read_csv(io.BytesIO(uploaded['FB.csv']))\n"
      ],
      "execution_count": null,
      "outputs": [
        {
          "output_type": "display_data",
          "data": {
            "text/html": [
              "\n",
              "     <input type=\"file\" id=\"files-8495630e-5450-4086-aa79-c6db8a127bb2\" name=\"files[]\" multiple disabled\n",
              "        style=\"border:none\" />\n",
              "     <output id=\"result-8495630e-5450-4086-aa79-c6db8a127bb2\">\n",
              "      Upload widget is only available when the cell has been executed in the\n",
              "      current browser session. Please rerun this cell to enable.\n",
              "      </output>\n",
              "      <script src=\"/nbextensions/google.colab/files.js\"></script> "
            ],
            "text/plain": [
              "<IPython.core.display.HTML object>"
            ]
          },
          "metadata": {
            "tags": []
          }
        },
        {
          "output_type": "stream",
          "text": [
            "Saving FB.csv to FB (2).csv\n"
          ],
          "name": "stdout"
        }
      ]
    },
    {
      "cell_type": "markdown",
      "metadata": {
        "id": "257bYIkeqWqq",
        "colab_type": "text"
      },
      "source": [
        "###**2.2. Data Description Report**\n",
        "The total data has 930 rows with 7 attributes (columns), which are “Date”, “Open”, “High”, “Low”, “Close”, “Adj Close”, and “Volume” to calculate and render the stock price trend daily. \n",
        "\n",
        "1.  Date\n",
        "*   Represents date that records the stock price trend.\n",
        "*   Date format : yyyy-mm-dd\n",
        "*   The date range of dataset acquired to train and test is from 2017 to 2020 (current year), total 4 years.\n",
        "\n",
        "2.  Open\n",
        "*   Represents opening price of stock.\n",
        "*   The first transaction price per share after the opening of the stock exchange on each trading day.\n",
        "*   In the invisible trading market, if a certain security has not been traded for several consecutive days, the closing price of the previous day is used as its opening price.\n",
        "\n",
        "3.  Close \n",
        "*   Represents closing price of stock.\n",
        "*   The volume-weighted average price of all transactions one minute before the last transaction of the security on the day (including the last transaction). \n",
        "*   If there is no transaction on the day, the closing price of the previous day shall be the closing price of the day. \n",
        "\n",
        "4.  High\n",
        "*   Represents daily highest price of stock.\n",
        "\n",
        "5.  Low\n",
        "*   Represents daily lowest price of stock.\n",
        "\n",
        "6.  Adj Close\n",
        "*   Represents adjusted closing price of stock.\n",
        "*   Uses in analyzing the stock's dividends, stock splits and new stock offerings to determine an adjusted value.\n",
        "*   Reflects the change in stock value caused by new offerings from the company.\n",
        "\n",
        "7.  Volume\n",
        "*   Represents stock market trading volume.\n",
        "*   The number of transactions reached by both buyers and sellers of the stock.\n",
        "\n"
      ]
    },
    {
      "cell_type": "markdown",
      "metadata": {
        "id": "Cwc8SP2qk_ES",
        "colab_type": "text"
      },
      "source": [
        "**- After read the data csv file, all the data are assigned and stored into dataframe (variable name: df). The output are displaying the stock price trend and details from 2017-01-01 to 2020-09-11 in table format.**"
      ]
    },
    {
      "cell_type": "code",
      "metadata": {
        "id": "7eI-cR4ee3xv",
        "colab_type": "code",
        "colab": {
          "base_uri": "https://localhost:8080/",
          "height": 266
        },
        "outputId": "c11c07bf-5158-4e5d-c21d-961dc847ac20"
      },
      "source": [
        "print(df)"
      ],
      "execution_count": null,
      "outputs": [
        {
          "output_type": "stream",
          "text": [
            "           Date        Open        High  ...       Close   Adj Close    Volume\n",
            "0    2017-01-03  116.029999  117.839996  ...  116.860001  116.860001  20663900\n",
            "1    2017-01-04  117.550003  119.660004  ...  118.690002  118.690002  19630900\n",
            "2    2017-01-05  118.860001  120.949997  ...  120.669998  120.669998  19492200\n",
            "3    2017-01-06  120.980003  123.879997  ...  123.410004  123.410004  28545300\n",
            "4    2017-01-09  123.550003  125.430000  ...  124.900002  124.900002  22880400\n",
            "..          ...         ...         ...  ...         ...         ...       ...\n",
            "925  2020-09-04  287.250000  289.000000  ...  282.730011  282.730011  30333700\n",
            "926  2020-09-08  271.279999  279.299988  ...  271.160004  271.160004  24864000\n",
            "927  2020-09-09  275.769989  278.480011  ...  273.720001  273.720001  22918800\n",
            "928  2020-09-10  275.510010  279.160004  ...  268.089996  268.089996  24814700\n",
            "929  2020-09-11  270.059998  271.390015  ...  266.609985  266.609985  18906100\n",
            "\n",
            "[930 rows x 7 columns]\n"
          ],
          "name": "stdout"
        }
      ]
    },
    {
      "cell_type": "markdown",
      "metadata": {
        "id": "HRPueKHBmEY1",
        "colab_type": "text"
      },
      "source": [
        "**- \"columns\" shows column names available in dataset**"
      ]
    },
    {
      "cell_type": "code",
      "metadata": {
        "id": "x7kOXm9pqxnH",
        "colab_type": "code",
        "colab": {
          "base_uri": "https://localhost:8080/",
          "height": 35
        },
        "outputId": "354d8eef-2db4-44b1-fd41-932e72e10b6f"
      },
      "source": [
        "df.columns"
      ],
      "execution_count": null,
      "outputs": [
        {
          "output_type": "execute_result",
          "data": {
            "text/plain": [
              "Index(['Date', 'Open', 'High', 'Low', 'Close', 'Adj Close', 'Volume'], dtype='object')"
            ]
          },
          "metadata": {
            "tags": []
          },
          "execution_count": 3
        }
      ]
    },
    {
      "cell_type": "markdown",
      "metadata": {
        "id": "np6TLYqR95af",
        "colab_type": "text"
      },
      "source": [
        "**-\"shape\" shows number of rows and columns of dataframe**"
      ]
    },
    {
      "cell_type": "code",
      "metadata": {
        "id": "GyVtiQc2qx4t",
        "colab_type": "code",
        "colab": {
          "base_uri": "https://localhost:8080/",
          "height": 35
        },
        "outputId": "e926ed50-9332-4fbe-fc5e-83e703c886e0"
      },
      "source": [
        "df.shape"
      ],
      "execution_count": null,
      "outputs": [
        {
          "output_type": "execute_result",
          "data": {
            "text/plain": [
              "(930, 7)"
            ]
          },
          "metadata": {
            "tags": []
          },
          "execution_count": 4
        }
      ]
    },
    {
      "cell_type": "markdown",
      "metadata": {
        "id": "xtmb9LLXl7i7",
        "colab_type": "text"
      },
      "source": [
        "**- \"dtype\" shows the data type of the columns in dataset**"
      ]
    },
    {
      "cell_type": "code",
      "metadata": {
        "id": "F-rBCwoFqyCV",
        "colab_type": "code",
        "colab": {
          "base_uri": "https://localhost:8080/",
          "height": 159
        },
        "outputId": "cb404af2-eb1c-49cf-a9ec-a6f66f54c3a9"
      },
      "source": [
        "df.dtypes"
      ],
      "execution_count": null,
      "outputs": [
        {
          "output_type": "execute_result",
          "data": {
            "text/plain": [
              "Date          object\n",
              "Open         float64\n",
              "High         float64\n",
              "Low          float64\n",
              "Close        float64\n",
              "Adj Close    float64\n",
              "Volume         int64\n",
              "dtype: object"
            ]
          },
          "metadata": {
            "tags": []
          },
          "execution_count": 5
        }
      ]
    },
    {
      "cell_type": "markdown",
      "metadata": {
        "id": "fQdaDzcT8ZsA",
        "colab_type": "text"
      },
      "source": [
        "**- \"describe()\" will return a series of parameters, such as count, mean, standard deviation, minimum value, the values ​​of the three different percentile positions of the array (e.g. 25%, 50%, 75%), and maximum value.**"
      ]
    },
    {
      "cell_type": "code",
      "metadata": {
        "id": "8UNu8NTkqyN2",
        "colab_type": "code",
        "colab": {
          "base_uri": "https://localhost:8080/",
          "height": 291
        },
        "outputId": "c132d7c6-a763-43a4-a720-d34ded314c47"
      },
      "source": [
        "df.describe()"
      ],
      "execution_count": null,
      "outputs": [
        {
          "output_type": "execute_result",
          "data": {
            "text/html": [
              "<div>\n",
              "<style scoped>\n",
              "    .dataframe tbody tr th:only-of-type {\n",
              "        vertical-align: middle;\n",
              "    }\n",
              "\n",
              "    .dataframe tbody tr th {\n",
              "        vertical-align: top;\n",
              "    }\n",
              "\n",
              "    .dataframe thead th {\n",
              "        text-align: right;\n",
              "    }\n",
              "</style>\n",
              "<table border=\"1\" class=\"dataframe\">\n",
              "  <thead>\n",
              "    <tr style=\"text-align: right;\">\n",
              "      <th></th>\n",
              "      <th>Open</th>\n",
              "      <th>High</th>\n",
              "      <th>Low</th>\n",
              "      <th>Close</th>\n",
              "      <th>Adj Close</th>\n",
              "      <th>Volume</th>\n",
              "    </tr>\n",
              "  </thead>\n",
              "  <tbody>\n",
              "    <tr>\n",
              "      <th>count</th>\n",
              "      <td>930.000000</td>\n",
              "      <td>930.000000</td>\n",
              "      <td>930.000000</td>\n",
              "      <td>930.000000</td>\n",
              "      <td>930.000000</td>\n",
              "      <td>9.300000e+02</td>\n",
              "    </tr>\n",
              "    <tr>\n",
              "      <th>mean</th>\n",
              "      <td>178.970183</td>\n",
              "      <td>181.048333</td>\n",
              "      <td>176.925140</td>\n",
              "      <td>179.110408</td>\n",
              "      <td>179.110408</td>\n",
              "      <td>2.090552e+07</td>\n",
              "    </tr>\n",
              "    <tr>\n",
              "      <th>std</th>\n",
              "      <td>30.586182</td>\n",
              "      <td>31.145782</td>\n",
              "      <td>30.098870</td>\n",
              "      <td>30.666004</td>\n",
              "      <td>30.666004</td>\n",
              "      <td>1.351526e+07</td>\n",
              "    </tr>\n",
              "    <tr>\n",
              "      <th>min</th>\n",
              "      <td>116.029999</td>\n",
              "      <td>117.839996</td>\n",
              "      <td>115.510002</td>\n",
              "      <td>116.860001</td>\n",
              "      <td>116.860001</td>\n",
              "      <td>6.046300e+06</td>\n",
              "    </tr>\n",
              "    <tr>\n",
              "      <th>25%</th>\n",
              "      <td>159.255005</td>\n",
              "      <td>161.430000</td>\n",
              "      <td>157.012497</td>\n",
              "      <td>159.397499</td>\n",
              "      <td>159.397499</td>\n",
              "      <td>1.317265e+07</td>\n",
              "    </tr>\n",
              "    <tr>\n",
              "      <th>50%</th>\n",
              "      <td>177.589996</td>\n",
              "      <td>179.039993</td>\n",
              "      <td>175.794998</td>\n",
              "      <td>177.489998</td>\n",
              "      <td>177.489998</td>\n",
              "      <td>1.735605e+07</td>\n",
              "    </tr>\n",
              "    <tr>\n",
              "      <th>75%</th>\n",
              "      <td>192.822506</td>\n",
              "      <td>194.545002</td>\n",
              "      <td>189.994999</td>\n",
              "      <td>192.729996</td>\n",
              "      <td>192.729996</td>\n",
              "      <td>2.365552e+07</td>\n",
              "    </tr>\n",
              "    <tr>\n",
              "      <th>max</th>\n",
              "      <td>300.160004</td>\n",
              "      <td>304.670013</td>\n",
              "      <td>293.049988</td>\n",
              "      <td>303.910004</td>\n",
              "      <td>303.910004</td>\n",
              "      <td>1.698037e+08</td>\n",
              "    </tr>\n",
              "  </tbody>\n",
              "</table>\n",
              "</div>"
            ],
            "text/plain": [
              "             Open        High         Low       Close   Adj Close        Volume\n",
              "count  930.000000  930.000000  930.000000  930.000000  930.000000  9.300000e+02\n",
              "mean   178.970183  181.048333  176.925140  179.110408  179.110408  2.090552e+07\n",
              "std     30.586182   31.145782   30.098870   30.666004   30.666004  1.351526e+07\n",
              "min    116.029999  117.839996  115.510002  116.860001  116.860001  6.046300e+06\n",
              "25%    159.255005  161.430000  157.012497  159.397499  159.397499  1.317265e+07\n",
              "50%    177.589996  179.039993  175.794998  177.489998  177.489998  1.735605e+07\n",
              "75%    192.822506  194.545002  189.994999  192.729996  192.729996  2.365552e+07\n",
              "max    300.160004  304.670013  293.049988  303.910004  303.910004  1.698037e+08"
            ]
          },
          "metadata": {
            "tags": []
          },
          "execution_count": 6
        }
      ]
    },
    {
      "cell_type": "markdown",
      "metadata": {
        "id": "czYv8xw7-b8g",
        "colab_type": "text"
      },
      "source": [
        "**-\"info()\" shows the view index, data type and memory information of the dataframe.**"
      ]
    },
    {
      "cell_type": "code",
      "metadata": {
        "id": "rXhMTNcIrI3P",
        "colab_type": "code",
        "colab": {
          "base_uri": "https://localhost:8080/",
          "height": 266
        },
        "outputId": "c0aa9f6a-55b5-4c84-958a-3f6cae94e5f7"
      },
      "source": [
        "df.info()"
      ],
      "execution_count": null,
      "outputs": [
        {
          "output_type": "stream",
          "text": [
            "<class 'pandas.core.frame.DataFrame'>\n",
            "RangeIndex: 930 entries, 0 to 929\n",
            "Data columns (total 7 columns):\n",
            " #   Column     Non-Null Count  Dtype  \n",
            "---  ------     --------------  -----  \n",
            " 0   Date       930 non-null    object \n",
            " 1   Open       930 non-null    float64\n",
            " 2   High       930 non-null    float64\n",
            " 3   Low        930 non-null    float64\n",
            " 4   Close      930 non-null    float64\n",
            " 5   Adj Close  930 non-null    float64\n",
            " 6   Volume     930 non-null    int64  \n",
            "dtypes: float64(5), int64(1), object(1)\n",
            "memory usage: 51.0+ KB\n"
          ],
          "name": "stdout"
        }
      ]
    },
    {
      "cell_type": "markdown",
      "metadata": {
        "id": "SGgY2t4Wx4zo",
        "colab_type": "text"
      },
      "source": [
        "###**2.3. Verify Data Quality**"
      ]
    },
    {
      "cell_type": "markdown",
      "metadata": {
        "id": "4TaTZ1hHm2dW",
        "colab_type": "text"
      },
      "source": [
        "####**2.3.1.  Missing Data**\n",
        "In addition to incorrect datatypes, another common problem when dealing with real-world data is missing values. These can arise for many reasons and have to be either filled in or removed before we train a machine learning model. First, let’s get a sense of how many missing values are in each column\n",
        "\n",
        "While we always want to be careful about removing information, if a column has a high percentage of missing values, then it probably will not be useful to our model. The threshold for removing columns should depend on the problem"
      ]
    },
    {
      "cell_type": "code",
      "metadata": {
        "id": "eoS4I-R3rnSv",
        "colab_type": "code",
        "colab": {
          "base_uri": "https://localhost:8080/",
          "height": 159
        },
        "outputId": "dd265f89-818a-48d3-cd27-46ef33cc04a1"
      },
      "source": [
        "# check null\n",
        "mis_val = df.isnull().sum()\n",
        "mis_val"
      ],
      "execution_count": null,
      "outputs": [
        {
          "output_type": "execute_result",
          "data": {
            "text/plain": [
              "Date         0\n",
              "Open         0\n",
              "High         0\n",
              "Low          0\n",
              "Close        0\n",
              "Adj Close    0\n",
              "Volume       0\n",
              "dtype: int64"
            ]
          },
          "metadata": {
            "tags": []
          },
          "execution_count": 8
        }
      ]
    },
    {
      "cell_type": "code",
      "metadata": {
        "id": "UbZkb4e6rnf-",
        "colab_type": "code",
        "colab": {}
      },
      "source": [
        "def missing_values_table(mis_val):\n",
        "        mis_val_percent = 100 * df.isnull().sum() / len(df)\n",
        "        mis_val_table = pd.concat([mis_val, mis_val_percent], axis=1)\n",
        "        mis_val_table_ren_columns = mis_val_table.rename(\n",
        "        columns = {0 : 'Missing Values', 1 : '% of Total Values'})\n",
        "        mis_val_table_ren_columns = mis_val_table_ren_columns[\n",
        "            mis_val_table_ren_columns.iloc[:,1] != 0].sort_values(\n",
        "        '% of Total Values', ascending=False).round(1)\n",
        "        print (\"Your selected dataframe has \" + str(df.shape[1]) + \" columns.\\n\"      \n",
        "            \"There are \" + str(mis_val_table_ren_columns.shape[0]) +\n",
        "              \" columns that have missing values.\")\n",
        "        return mis_val_table_ren_columns"
      ],
      "execution_count": null,
      "outputs": []
    },
    {
      "cell_type": "code",
      "metadata": {
        "id": "w2WrgH5lrnJN",
        "colab_type": "code",
        "colab": {
          "base_uri": "https://localhost:8080/",
          "height": 84
        },
        "outputId": "ce1caeb7-efa3-4ea1-a66f-bc8d38abceb1"
      },
      "source": [
        "missing_values_table(mis_val)"
      ],
      "execution_count": null,
      "outputs": [
        {
          "output_type": "stream",
          "text": [
            "Your selected dataframe has 7 columns.\n",
            "There are 0 columns that have missing values.\n"
          ],
          "name": "stdout"
        },
        {
          "output_type": "execute_result",
          "data": {
            "text/html": [
              "<div>\n",
              "<style scoped>\n",
              "    .dataframe tbody tr th:only-of-type {\n",
              "        vertical-align: middle;\n",
              "    }\n",
              "\n",
              "    .dataframe tbody tr th {\n",
              "        vertical-align: top;\n",
              "    }\n",
              "\n",
              "    .dataframe thead th {\n",
              "        text-align: right;\n",
              "    }\n",
              "</style>\n",
              "<table border=\"1\" class=\"dataframe\">\n",
              "  <thead>\n",
              "    <tr style=\"text-align: right;\">\n",
              "      <th></th>\n",
              "      <th>Missing Values</th>\n",
              "      <th>% of Total Values</th>\n",
              "    </tr>\n",
              "  </thead>\n",
              "  <tbody>\n",
              "  </tbody>\n",
              "</table>\n",
              "</div>"
            ],
            "text/plain": [
              "Empty DataFrame\n",
              "Columns: [Missing Values, % of Total Values]\n",
              "Index: []"
            ]
          },
          "metadata": {
            "tags": []
          },
          "execution_count": 10
        }
      ]
    },
    {
      "cell_type": "markdown",
      "metadata": {
        "id": "2rlW6zotnBhP",
        "colab_type": "text"
      },
      "source": [
        "**According to the previous results, no data is missing in the dataset, therefore we can direct test and train the data to predict stock price later.**"
      ]
    },
    {
      "cell_type": "markdown",
      "metadata": {
        "id": "4pL5jnjFx4gG",
        "colab_type": "text"
      },
      "source": [
        "###**2.4. Explore Data**"
      ]
    },
    {
      "cell_type": "markdown",
      "metadata": {
        "id": "Yt1fYFFOxf77",
        "colab_type": "text"
      },
      "source": [
        "####**a. Stock Opening Price Trend from the year of 2017 to 2020**"
      ]
    },
    {
      "cell_type": "code",
      "metadata": {
        "id": "V4boIeyT86gO",
        "colab_type": "code",
        "colab": {
          "base_uri": "https://localhost:8080/",
          "height": 295
        },
        "outputId": "3cd3c866-c7df-4194-b596-dc450716edd5"
      },
      "source": [
        "df['Open'].plot(label = 'Facebook Stock Opening Price')\n",
        "plt.title('Trend of Facebook Stock Opening Price')\n",
        "plt.xlabel(\"Index: from 2017-01-03 to 2020-9-11\")\n",
        "plt.ylabel(\"Dollar\")\n",
        "plt.show()"
      ],
      "execution_count": null,
      "outputs": [
        {
          "output_type": "display_data",
          "data": {
            "image/png": "[encoded data removed]",
            "text/plain": [
              "<Figure size 432x288 with 1 Axes>"
            ]
          },
          "metadata": {
            "tags": [],
            "needs_background": "light"
          }
        }
      ]
    },
    {
      "cell_type": "markdown",
      "metadata": {
        "id": "LTvhn9_WtnP8",
        "colab_type": "text"
      },
      "source": [
        "####**b. Stock Closing Price Trend from the year of 2017 to 2020**"
      ]
    },
    {
      "cell_type": "code",
      "metadata": {
        "id": "-hVPYOOy6uBj",
        "colab_type": "code",
        "colab": {
          "base_uri": "https://localhost:8080/",
          "height": 295
        },
        "outputId": "32cc3a21-7e8e-4599-8798-226a3152a3b7"
      },
      "source": [
        "df['Close'].plot(label = 'Facebook Stock Closing Price')\n",
        "plt.title('Trend of Facebook Stock Closing Price')\n",
        "plt.xlabel(\"Index: from 2017-01-03 to 2020-9-11\")\n",
        "plt.ylabel(\"USD Dollar\")\n",
        "plt.show()"
      ],
      "execution_count": null,
      "outputs": [
        {
          "output_type": "display_data",
          "data": {
            "image/png": "[encoded data removed]",
            "text/plain": [
              "<Figure size 432x288 with 1 Axes>"
            ]
          },
          "metadata": {
            "tags": [],
            "needs_background": "light"
          }
        }
      ]
    },
    {
      "cell_type": "markdown",
      "metadata": {
        "id": "J58LnuX9t0i5",
        "colab_type": "text"
      },
      "source": [
        "####**c. Stock Highest Price Trend from the year of 2017 to 2020**"
      ]
    },
    {
      "cell_type": "code",
      "metadata": {
        "id": "QG73upVS86SP",
        "colab_type": "code",
        "colab": {
          "base_uri": "https://localhost:8080/",
          "height": 295
        },
        "outputId": "0609e5b3-1e81-4324-ec02-a92853d1b6f4"
      },
      "source": [
        "df['High'].plot(label = 'The highest price of the day')\n",
        "plt.title('Trend of Facebook Stock Highest Price')\n",
        "plt.xlabel(\"Index: from 2017-01-03 to 2020-9-11\")\n",
        "plt.ylabel(\"USD Dollar\")\n",
        "plt.show()"
      ],
      "execution_count": null,
      "outputs": [
        {
          "output_type": "display_data",
          "data": {
            "image/png": "[encoded data removed]",
            "text/plain": [
              "<Figure size 432x288 with 1 Axes>"
            ]
          },
          "metadata": {
            "tags": [],
            "needs_background": "light"
          }
        }
      ]
    },
    {
      "cell_type": "markdown",
      "metadata": {
        "id": "jzncVfJ8t8dq",
        "colab_type": "text"
      },
      "source": [
        "####**d. Stock Lowest Price Trend from the year of 2017 to 2020**"
      ]
    },
    {
      "cell_type": "code",
      "metadata": {
        "id": "NlNanRwG87kL",
        "colab_type": "code",
        "colab": {
          "base_uri": "https://localhost:8080/",
          "height": 295
        },
        "outputId": "fa6115b8-7e01-46d2-8d0b-fc67084d0e6c"
      },
      "source": [
        "df['Low'].plot(label = 'The lowest price of the day')\n",
        "plt.title('Trend of Facebook Stock Lowest Price')\n",
        "plt.xlabel(\"Index: from 2017-01-03 to 2020-9-11\")\n",
        "plt.ylabel(\"USD Dollar\")\n",
        "plt.show()"
      ],
      "execution_count": null,
      "outputs": [
        {
          "output_type": "display_data",
          "data": {
            "image/png": "[encoded data removed]",
            "text/plain": [
              "<Figure size 432x288 with 1 Axes>"
            ]
          },
          "metadata": {
            "tags": [],
            "needs_background": "light"
          }
        }
      ]
    },
    {
      "cell_type": "markdown",
      "metadata": {
        "id": "Mqmay83gt_1b",
        "colab_type": "text"
      },
      "source": [
        "####**d. Stock Adjusted Closing Price Trend from the year of 2017 to 2020**"
      ]
    },
    {
      "cell_type": "code",
      "metadata": {
        "id": "g-10iuvn885c",
        "colab_type": "code",
        "colab": {
          "base_uri": "https://localhost:8080/",
          "height": 295
        },
        "outputId": "0c835d1b-7e3d-42a4-fc91-c4ff566c7b29"
      },
      "source": [
        "df['Adj Close'].plot(label = 'The adjusted closing price of the day')\n",
        "plt.title('Trend of Facebook Stock Adjusted Closing Price')\n",
        "plt.xlabel(\"Index: from 2017-01-03 to 2020-9-11\")\n",
        "plt.ylabel(\"USD Dollar\")\n",
        "plt.show()"
      ],
      "execution_count": null,
      "outputs": [
        {
          "output_type": "display_data",
          "data": {
            "image/png": "[encoded data removed]",
            "text/plain": [
              "<Figure size 432x288 with 1 Axes>"
            ]
          },
          "metadata": {
            "tags": [],
            "needs_background": "light"
          }
        }
      ]
    },
    {
      "cell_type": "markdown",
      "metadata": {
        "id": "Xn4zFzepuGhE",
        "colab_type": "text"
      },
      "source": [
        "####**e. Stock Trading Volume from the year of 2017 to 2020**"
      ]
    },
    {
      "cell_type": "code",
      "metadata": {
        "id": "fRJPf-3c87HJ",
        "colab_type": "code",
        "colab": {
          "base_uri": "https://localhost:8080/",
          "height": 295
        },
        "outputId": "8c434a0d-38f6-47e4-d41c-9a93667315b3"
      },
      "source": [
        "df['Volume'].plot(label = 'stock-trading volume')\n",
        "plt.title('Trend of Facebook Stock Trading Volume')\n",
        "plt.xlabel(\"Index: from 2017-01-03 to 2020-9-11\")\n",
        "plt.ylabel(\"Trading Volume\")\n",
        "plt.show()"
      ],
      "execution_count": null,
      "outputs": [
        {
          "output_type": "display_data",
          "data": {
            "image/png": "[encoded data removed]",
            "text/plain": [
              "<Figure size 432x288 with 1 Axes>"
            ]
          },
          "metadata": {
            "tags": [],
            "needs_background": "light"
          }
        }
      ]
    },
    {
      "cell_type": "markdown",
      "metadata": {
        "id": "ouB0klh_2-Al",
        "colab_type": "text"
      },
      "source": [
        "**The plots above shows that the Facebook stock price is affected by the trading volume in recent years. As the stock price goes up, the trading volume increases too. Same as the stock price goes down, the trading volume decreases.**"
      ]
    },
    {
      "cell_type": "markdown",
      "metadata": {
        "id": "p3cq_AiM5Hjx",
        "colab_type": "text"
      },
      "source": [
        "####**f. Autocorrelation of stock closing price**"
      ]
    },
    {
      "cell_type": "code",
      "metadata": {
        "id": "NVyzyzHt2gkM",
        "colab_type": "code",
        "colab": {
          "base_uri": "https://localhost:8080/",
          "height": 638
        },
        "outputId": "1099439a-fe38-4490-fe74-cf78b08ee907"
      },
      "source": [
        "from pandas.plotting import lag_plot\n",
        "plt.figure(figsize=(10,10))\n",
        "lag_plot(df['Close'], lag=1)\n",
        "plt.title('Facebook Autocorrelation plot')"
      ],
      "execution_count": null,
      "outputs": [
        {
          "output_type": "execute_result",
          "data": {
            "text/plain": [
              "Text(0.5, 1.0, 'Facebook Autocorrelation plot')"
            ]
          },
          "metadata": {
            "tags": []
          },
          "execution_count": 17
        },
        {
          "output_type": "display_data",
          "data": {
            "image/png": "[encoded data removed]",
            "text/plain": [
              "<Figure size 720x720 with 1 Axes>"
            ]
          },
          "metadata": {
            "tags": [],
            "needs_background": "light"
          }
        }
      ]
    },
    {
      "cell_type": "markdown",
      "metadata": {
        "id": "JvN4zrxH3Ukq",
        "colab_type": "text"
      },
      "source": [
        "**We can analyze the autocorrelation graph from the following perspectives.**\n",
        "\n",
        "\n",
        "*   Model suitability\n",
        ">The shape of the autocorrelation graph can provide clues about the data infrastructure. The linear shape of the curve indicates that the autoregressive model may be a better choice.\n",
        "\n",
        "*   Outliers (data points with extremely high or low values).\n",
        ">In this graph, we noticed few outliers. This is reasonable, because oulier means that the stock price changes significantly overnight, which is rarely the case for large mature companies.\n",
        "\n",
        "*   Randomness (no pattern data).\n",
        ">The random data will be evenly distributed in the horizontal and vertical directions. Apple's stock price is obviously not random.\n",
        "\n",
        "*   Sequence correlation (the error term in the time series shifts from one cycle to another).\n",
        ">If the data shows a linear pattern, then there is an autocorrelation. A positive linear trend indicates that the autocorrelation is positive. A negative linear trend indicates that the autocorrelation is negative. The more the data is clustered around the diagonal, the more autocorrelation. Fully autocorrelated data will be gathered on a diagonal line. We can see that our data is completely autocorrelated.\n",
        "\n",
        "*   Seasonality (cyclic fluctuations of time series data that occur regularly).\n",
        ">Data with seasonality will periodically repeat itself in a sine or cosine-like waveform. Our data is definitely not seasonal."
      ]
    },
    {
      "cell_type": "markdown",
      "metadata": {
        "id": "xOU8hDKN6adm",
        "colab_type": "text"
      },
      "source": [
        "####**g. Nested Autocorrelation of stock closing price**"
      ]
    },
    {
      "cell_type": "code",
      "metadata": {
        "id": "_ug0rMXB6p3T",
        "colab_type": "code",
        "colab": {
          "base_uri": "https://localhost:8080/",
          "height": 638
        },
        "outputId": "fc174ae4-6fa6-4148-9c04-e28e5a0f4746"
      },
      "source": [
        "from pandas.plotting import lag_plot\n",
        "plt.figure(figsize=(10,10))\n",
        "lag_plot((df['Close']-df['Close'].shift(1)), lag=1)\n",
        "plt.title('Facebook Nested Autocorrelation plot')"
      ],
      "execution_count": null,
      "outputs": [
        {
          "output_type": "execute_result",
          "data": {
            "text/plain": [
              "Text(0.5, 1.0, 'Facebook Nested Autocorrelation plot')"
            ]
          },
          "metadata": {
            "tags": []
          },
          "execution_count": 18
        },
        {
          "output_type": "display_data",
          "data": {
            "image/png": "[encoded data removed]",
            "text/plain": [
              "<Figure size 720x720 with 1 Axes>"
            ]
          },
          "metadata": {
            "tags": [],
            "needs_background": "light"
          }
        }
      ]
    },
    {
      "cell_type": "markdown",
      "metadata": {
        "id": "APdRv1hc7A59",
        "colab_type": "text"
      },
      "source": [
        "**The picture above is actually the lag plot of the lag plot. It shows the autocorrelation of the autocorrelation. We can notice there is roughly a round which centers in (0, 0). It indicates that the stock price change steadily, namely the change of stock price change is small.**"
      ]
    },
    {
      "cell_type": "markdown",
      "metadata": {
        "id": "3JjLla2OeoLx",
        "colab_type": "text"
      },
      "source": [
        "##**3. Data Preparation**\n",
        "\n"
      ]
    },
    {
      "cell_type": "markdown",
      "metadata": {
        "id": "ua4BdQw87rip",
        "colab_type": "text"
      },
      "source": [
        "###**3.1. Data Preparation for RNN + LSTM**"
      ]
    },
    {
      "cell_type": "markdown",
      "metadata": {
        "id": "hxEBgJJb846O",
        "colab_type": "text"
      },
      "source": [
        "####**3.1.1. Select data**\n",
        "We split the stock price data into training and testing dataset, which the data from the year of 2017 to 2019 are used for training, while the stock price data in the year of 2020 are used for testing."
      ]
    },
    {
      "cell_type": "code",
      "metadata": {
        "id": "y17pdDzOF8zc",
        "colab_type": "code",
        "colab": {
          "base_uri": "https://localhost:8080/",
          "height": 266
        },
        "outputId": "f98dbbf5-897c-4db3-efc4-d25e87cdc487"
      },
      "source": [
        "data_train = df[df['Date']<'2020-01-01'].copy()\n",
        "print(data_train)"
      ],
      "execution_count": null,
      "outputs": [
        {
          "output_type": "stream",
          "text": [
            "           Date        Open        High  ...       Close   Adj Close    Volume\n",
            "0    2017-01-03  116.029999  117.839996  ...  116.860001  116.860001  20663900\n",
            "1    2017-01-04  117.550003  119.660004  ...  118.690002  118.690002  19630900\n",
            "2    2017-01-05  118.860001  120.949997  ...  120.669998  120.669998  19492200\n",
            "3    2017-01-06  120.980003  123.879997  ...  123.410004  123.410004  28545300\n",
            "4    2017-01-09  123.550003  125.430000  ...  124.900002  124.900002  22880400\n",
            "..          ...         ...         ...  ...         ...         ...       ...\n",
            "749  2019-12-24  206.300003  206.789993  ...  205.119995  205.119995   6046300\n",
            "750  2019-12-26  205.570007  207.820007  ...  207.789993  207.789993   9350700\n",
            "751  2019-12-27  208.669998  208.929993  ...  208.100006  208.100006  10284200\n",
            "752  2019-12-30  207.860001  207.899994  ...  204.410004  204.410004  10524300\n",
            "753  2019-12-31  204.000000  205.559998  ...  205.250000  205.250000   8953500\n",
            "\n",
            "[754 rows x 7 columns]\n"
          ],
          "name": "stdout"
        }
      ]
    },
    {
      "cell_type": "code",
      "metadata": {
        "id": "RevBg3RsCXrd",
        "colab_type": "code",
        "colab": {
          "base_uri": "https://localhost:8080/",
          "height": 266
        },
        "outputId": "6d1d7087-e585-48b9-f888-52db1ba44fcb"
      },
      "source": [
        "data_test = df[df['Date']>='2020-01-01'].copy()\n",
        "print(data_test)"
      ],
      "execution_count": null,
      "outputs": [
        {
          "output_type": "stream",
          "text": [
            "           Date        Open        High  ...       Close   Adj Close    Volume\n",
            "754  2020-01-02  206.750000  209.789993  ...  209.779999  209.779999  12077100\n",
            "755  2020-01-03  207.210007  210.399994  ...  208.669998  208.669998  11188400\n",
            "756  2020-01-06  206.699997  212.779999  ...  212.600006  212.600006  17058900\n",
            "757  2020-01-07  212.820007  214.580002  ...  213.059998  213.059998  14912400\n",
            "758  2020-01-08  213.000000  216.240005  ...  215.220001  215.220001  13475000\n",
            "..          ...         ...         ...  ...         ...         ...       ...\n",
            "925  2020-09-04  287.250000  289.000000  ...  282.730011  282.730011  30333700\n",
            "926  2020-09-08  271.279999  279.299988  ...  271.160004  271.160004  24864000\n",
            "927  2020-09-09  275.769989  278.480011  ...  273.720001  273.720001  22918800\n",
            "928  2020-09-10  275.510010  279.160004  ...  268.089996  268.089996  24814700\n",
            "929  2020-09-11  270.059998  271.390015  ...  266.609985  266.609985  18906100\n",
            "\n",
            "[176 rows x 7 columns]\n"
          ],
          "name": "stdout"
        }
      ]
    },
    {
      "cell_type": "markdown",
      "metadata": {
        "id": "F4cHXct69s-Q",
        "colab_type": "text"
      },
      "source": [
        "####**3.1.2. Data Cleaning**\n",
        "Step 1:  We are decided to remove two columns, which is the \"Date\" and \"Adj Close\" by dropping them from both training and testing data. The \"Date\" attribute is not essential because the final result of prediction will render according to the relationship between time and price instead of date and price as the RNN + LSTM model is suitable to apply in classifying, processing and undergoing predictions based on time series data. In addition, the \"Adj Close\" is also removed because its values are actually generated by through amending the stock's closing price (\"Close\" attribute values) to reflect that stock's value after accounting for any corporate actions. But, in this dataset, we realise that the values of closing price and adjust closing prices are totally same, which means there are no adjustment and amendement to do with the closing price and calculate a new adjusted closing price. Hence, the \"Adj Close\" columns value will be meaningless in this prediction task."
      ]
    },
    {
      "cell_type": "code",
      "metadata": {
        "id": "pWdIrq1f9rcW",
        "colab_type": "code",
        "colab": {
          "base_uri": "https://localhost:8080/",
          "height": 266
        },
        "outputId": "70589d46-ab83-46d4-837b-8e22056bb9fb"
      },
      "source": [
        "data_train = data_train.drop(['Date', 'Adj Close'], axis = 1)\n",
        "print(data_train)"
      ],
      "execution_count": null,
      "outputs": [
        {
          "output_type": "stream",
          "text": [
            "           Open        High         Low       Close    Volume\n",
            "0    116.029999  117.839996  115.510002  116.860001  20663900\n",
            "1    117.550003  119.660004  117.290001  118.690002  19630900\n",
            "2    118.860001  120.949997  118.320000  120.669998  19492200\n",
            "3    120.980003  123.879997  120.029999  123.410004  28545300\n",
            "4    123.550003  125.430000  123.040001  124.900002  22880400\n",
            "..          ...         ...         ...         ...       ...\n",
            "749  206.300003  206.789993  205.000000  205.119995   6046300\n",
            "750  205.570007  207.820007  205.309998  207.789993   9350700\n",
            "751  208.669998  208.929993  206.589996  208.100006  10284200\n",
            "752  207.860001  207.899994  203.899994  204.410004  10524300\n",
            "753  204.000000  205.559998  203.600006  205.250000   8953500\n",
            "\n",
            "[754 rows x 5 columns]\n"
          ],
          "name": "stdout"
        }
      ]
    },
    {
      "cell_type": "markdown",
      "metadata": {
        "id": "sKlEstTTlDGW",
        "colab_type": "text"
      },
      "source": [
        "Step 2:  To predict opening on any day, we need the data of previous 60 days. \"past_60_days\" variable contains the data of the last 60 days from training dataset, \"data_train\" required to predict the opening of the 1st day in the testing dataset. After that, we will append \"data_test\" to \"past_60_days\"."
      ]
    },
    {
      "cell_type": "code",
      "metadata": {
        "id": "2bFW744e-krV",
        "colab_type": "code",
        "colab": {
          "base_uri": "https://localhost:8080/",
          "height": 266
        },
        "outputId": "41a5561c-bf09-4f9c-9def-afb593d28c18"
      },
      "source": [
        "data_test = data_test.drop(['Date', 'Adj Close'], axis = 1)\n",
        "past_60_days = data_train.tail(60)\n",
        "new_data_test = past_60_days.append(data_test, ignore_index = True)\n",
        "print(new_data_test)"
      ],
      "execution_count": null,
      "outputs": [
        {
          "output_type": "stream",
          "text": [
            "           Open        High         Low       Close    Volume\n",
            "0    180.000000  181.179993  178.089996  179.679993   9178300\n",
            "1    178.259995  180.369995  177.720001  177.750000   9466900\n",
            "2    179.160004  180.720001  177.940002  179.850006   7556900\n",
            "3    180.320007  181.610001  179.169998  180.029999   8605000\n",
            "4    182.149994  186.490005  182.139999  184.190002  14930500\n",
            "..          ...         ...         ...         ...       ...\n",
            "231  287.250000  289.000000  271.140015  282.730011  30333700\n",
            "232  271.279999  279.299988  269.420013  271.160004  24864000\n",
            "233  275.769989  278.480011  271.350006  273.720001  22918800\n",
            "234  275.510010  279.160004  267.029999  268.089996  24814700\n",
            "235  270.059998  271.390015  262.640015  266.609985  18906100\n",
            "\n",
            "[236 rows x 5 columns]\n"
          ],
          "name": "stdout"
        }
      ]
    },
    {
      "cell_type": "markdown",
      "metadata": {
        "id": "iLoGAZN6-Uas",
        "colab_type": "text"
      },
      "source": [
        "####**3.1.3. Feature Scaling**\n",
        "Step 1: The values in the training data are not in the same range. For getting all the values in between the range 0 to 1 we are going to use MinMaxScalar().This improves the accuracy of prediction."
      ]
    },
    {
      "cell_type": "code",
      "metadata": {
        "id": "-6-q4X_0KNrt",
        "colab_type": "code",
        "colab": {
          "base_uri": "https://localhost:8080/",
          "height": 141
        },
        "outputId": "6d228f79-af07-415e-e12e-d4ff186a0c33"
      },
      "source": [
        "from sklearn.preprocessing import MinMaxScaler\n",
        "scaler = MinMaxScaler() #scaling each feature into 0~1 range only, train better\n",
        "\n",
        "data_train_scaled = scaler.fit_transform(data_train)\n",
        "data_train_scaled"
      ],
      "execution_count": null,
      "outputs": [
        {
          "output_type": "execute_result",
          "data": {
            "text/plain": [
              "array([[0.        , 0.        , 0.        , 0.        , 0.08926375],\n",
              "       [0.01524731, 0.01805922, 0.01802348, 0.01818363, 0.08295564],\n",
              "       [0.02838802, 0.03085931, 0.02845279, 0.03785768, 0.08210866],\n",
              "       ...,\n",
              "       [0.92928074, 0.90384995, 0.92223564, 0.90659783, 0.02587914],\n",
              "       [0.92115558, 0.89362968, 0.89499788, 0.86993247, 0.02734533],\n",
              "       [0.88243554, 0.87041082, 0.89196033, 0.87827901, 0.01775309]])"
            ]
          },
          "metadata": {
            "tags": []
          },
          "execution_count": 23
        }
      ]
    },
    {
      "cell_type": "markdown",
      "metadata": {
        "id": "X11zDMUFhM-s",
        "colab_type": "text"
      },
      "source": [
        "Step 2: Creating Data with Timesteps: \n",
        "*   LSTMs expect our data to be in a specific format, usually a 3D array. We start by creating data in 60 timesteps and converting it into an array using NumPy. That means that we are going to train the model on data of 60 days at a time. So the code mentioned below divides the data into chunks of 60 rows. data_train_scaled.shape[0] is equal to 754 which corresponds to the length of data_train. Next, we convert the data into a 3D dimension array with X_train samples, 60 timestamps, and one feature at each step."
      ]
    },
    {
      "cell_type": "code",
      "metadata": {
        "id": "s0ZbMzBevr-b",
        "colab_type": "code",
        "colab": {
          "base_uri": "https://localhost:8080/",
          "height": 52
        },
        "outputId": "c5a1916f-e742-4052-b91d-b3ad52ca875b"
      },
      "source": [
        "X_train = []\n",
        "y_train = []\n",
        "\n",
        "for i in range(60, data_train_scaled.shape[0]):\n",
        "    X_train.append(data_train_scaled[i-60:i])\n",
        "    y_train.append(data_train_scaled[i, 0])\n",
        "\n",
        "X_train, y_train = np.array(X_train), np.array(y_train)\n",
        "\n",
        "print(X_train.shape)\n",
        "print(y_train.shape)"
      ],
      "execution_count": null,
      "outputs": [
        {
          "output_type": "stream",
          "text": [
            "(694, 60, 5)\n",
            "(694,)\n"
          ],
          "name": "stdout"
        }
      ]
    },
    {
      "cell_type": "markdown",
      "metadata": {
        "id": "X56-ySLXjLBY",
        "colab_type": "text"
      },
      "source": [
        "Step 3 : Repeat Step 1 and Step 2 with testing data (data_test)"
      ]
    },
    {
      "cell_type": "code",
      "metadata": {
        "id": "HNSO_sD5OKs7",
        "colab_type": "code",
        "colab": {
          "base_uri": "https://localhost:8080/",
          "height": 141
        },
        "outputId": "386b3e05-aa4b-41b1-fa2a-880d3806f12d"
      },
      "source": [
        "data_test_scaled = scaler.transform(new_data_test)\n",
        "data_test_scaled"
      ],
      "execution_count": null,
      "outputs": [
        {
          "output_type": "execute_result",
          "data": {
            "text/plain": [
              "array([[0.64168923, 0.62849769, 0.63365728, 0.62420501, 0.01912585],\n",
              "       [0.62423508, 0.62046041, 0.62991087, 0.60502782, 0.02088822],\n",
              "       [0.63326315, 0.62393338, 0.6321385 , 0.62589433, 0.00922462],\n",
              "       ...,\n",
              "       [1.60236721, 1.59396722, 1.5779668 , 1.55862482, 0.10303351],\n",
              "       [1.59975933, 1.60071452, 1.53422432, 1.5026828 , 0.114611  ],\n",
              "       [1.54508974, 1.523616  , 1.48977329, 1.4879768 , 0.07852958]])"
            ]
          },
          "metadata": {
            "tags": []
          },
          "execution_count": 25
        }
      ]
    },
    {
      "cell_type": "code",
      "metadata": {
        "id": "7ooxxgv4AbGe",
        "colab_type": "code",
        "colab": {
          "base_uri": "https://localhost:8080/",
          "height": 52
        },
        "outputId": "5f48ccbc-3814-4b65-8307-445336bb7a37"
      },
      "source": [
        "X_test = []\n",
        "y_test = []\n",
        "\n",
        "for i in range(60, data_test_scaled.shape[0]):\n",
        "    X_test.append(data_test_scaled[i-60:i])\n",
        "    y_test.append(data_test_scaled[i, 0])\n",
        "\n",
        "X_test, y_test = np.array(X_test), np.array(y_test)\n",
        "\n",
        "print(X_test.shape)\n",
        "print(y_test.shape)"
      ],
      "execution_count": null,
      "outputs": [
        {
          "output_type": "stream",
          "text": [
            "(176, 60, 5)\n",
            "(176,)\n"
          ],
          "name": "stdout"
        }
      ]
    },
    {
      "cell_type": "markdown",
      "metadata": {
        "id": "680vHyvt7Bc0",
        "colab_type": "text"
      },
      "source": [
        "###**3.2. Data Preparation for Decision Tree Regressor and Linear Regression**"
      ]
    },
    {
      "cell_type": "markdown",
      "metadata": {
        "id": "dkOW_T1r8Ezf",
        "colab_type": "text"
      },
      "source": [
        "This data is prepared for the modeling in decision tree regressor and linear regression. In order to count the future stock price, we gather all the closed stock price in the data set. We assign all the close stock price of the data set in the data_pre2, and 5 of the results are shown below."
      ]
    },
    {
      "cell_type": "code",
      "metadata": {
        "id": "KLpyhIoqeA_x",
        "colab_type": "code",
        "colab": {
          "base_uri": "https://localhost:8080/",
          "height": 200
        },
        "outputId": "6144be07-83fa-45f9-fa18-0e50b30de0c3"
      },
      "source": [
        "data_pre2=df[['Close']]\n",
        "data_pre2.head(5)"
      ],
      "execution_count": null,
      "outputs": [
        {
          "output_type": "execute_result",
          "data": {
            "text/html": [
              "<div>\n",
              "<style scoped>\n",
              "    .dataframe tbody tr th:only-of-type {\n",
              "        vertical-align: middle;\n",
              "    }\n",
              "\n",
              "    .dataframe tbody tr th {\n",
              "        vertical-align: top;\n",
              "    }\n",
              "\n",
              "    .dataframe thead th {\n",
              "        text-align: right;\n",
              "    }\n",
              "</style>\n",
              "<table border=\"1\" class=\"dataframe\">\n",
              "  <thead>\n",
              "    <tr style=\"text-align: right;\">\n",
              "      <th></th>\n",
              "      <th>Close</th>\n",
              "    </tr>\n",
              "  </thead>\n",
              "  <tbody>\n",
              "    <tr>\n",
              "      <th>0</th>\n",
              "      <td>116.860001</td>\n",
              "    </tr>\n",
              "    <tr>\n",
              "      <th>1</th>\n",
              "      <td>118.690002</td>\n",
              "    </tr>\n",
              "    <tr>\n",
              "      <th>2</th>\n",
              "      <td>120.669998</td>\n",
              "    </tr>\n",
              "    <tr>\n",
              "      <th>3</th>\n",
              "      <td>123.410004</td>\n",
              "    </tr>\n",
              "    <tr>\n",
              "      <th>4</th>\n",
              "      <td>124.900002</td>\n",
              "    </tr>\n",
              "  </tbody>\n",
              "</table>\n",
              "</div>"
            ],
            "text/plain": [
              "        Close\n",
              "0  116.860001\n",
              "1  118.690002\n",
              "2  120.669998\n",
              "3  123.410004\n",
              "4  124.900002"
            ]
          },
          "metadata": {
            "tags": []
          },
          "execution_count": 27
        }
      ]
    },
    {
      "cell_type": "markdown",
      "metadata": {
        "id": "NcBdlPVmcZ3b",
        "colab_type": "text"
      },
      "source": [
        "We set the data for predicting 'x' days out into the future. Assume that we need to predict the future 25 days of the close price, we set the future_days value to 25. Next, we create new column for the future_days for storing the predicted close stock price. The predicted result will be null in the future 25 days for the machine learning to do prediction because we shift the result out by the value of future_days."
      ]
    },
    {
      "cell_type": "code",
      "metadata": {
        "id": "NBCvU3HOfk-n",
        "colab_type": "code",
        "colab": {
          "base_uri": "https://localhost:8080/",
          "height": 276
        },
        "outputId": "1c283cc1-8092-4406-f95d-3c7cfecc86ee"
      },
      "source": [
        "#Set the data for predict 'x' days out into the future\n",
        "future_days=25\n",
        "#Create new column (target) shifted 'x' units/days up\n",
        "data_pre2['Predict result'] = data_pre2[['Close']].shift(-future_days)\n",
        "data_pre2.tail(4)"
      ],
      "execution_count": null,
      "outputs": [
        {
          "output_type": "stream",
          "text": [
            "/usr/local/lib/python3.6/dist-packages/ipykernel_launcher.py:4: SettingWithCopyWarning: \n",
            "A value is trying to be set on a copy of a slice from a DataFrame.\n",
            "Try using .loc[row_indexer,col_indexer] = value instead\n",
            "\n",
            "See the caveats in the documentation: https://pandas.pydata.org/pandas-docs/stable/user_guide/indexing.html#returning-a-view-versus-a-copy\n",
            "  after removing the cwd from sys.path.\n"
          ],
          "name": "stderr"
        },
        {
          "output_type": "execute_result",
          "data": {
            "text/html": [
              "<div>\n",
              "<style scoped>\n",
              "    .dataframe tbody tr th:only-of-type {\n",
              "        vertical-align: middle;\n",
              "    }\n",
              "\n",
              "    .dataframe tbody tr th {\n",
              "        vertical-align: top;\n",
              "    }\n",
              "\n",
              "    .dataframe thead th {\n",
              "        text-align: right;\n",
              "    }\n",
              "</style>\n",
              "<table border=\"1\" class=\"dataframe\">\n",
              "  <thead>\n",
              "    <tr style=\"text-align: right;\">\n",
              "      <th></th>\n",
              "      <th>Close</th>\n",
              "      <th>Predict result</th>\n",
              "    </tr>\n",
              "  </thead>\n",
              "  <tbody>\n",
              "    <tr>\n",
              "      <th>926</th>\n",
              "      <td>271.160004</td>\n",
              "      <td>NaN</td>\n",
              "    </tr>\n",
              "    <tr>\n",
              "      <th>927</th>\n",
              "      <td>273.720001</td>\n",
              "      <td>NaN</td>\n",
              "    </tr>\n",
              "    <tr>\n",
              "      <th>928</th>\n",
              "      <td>268.089996</td>\n",
              "      <td>NaN</td>\n",
              "    </tr>\n",
              "    <tr>\n",
              "      <th>929</th>\n",
              "      <td>266.609985</td>\n",
              "      <td>NaN</td>\n",
              "    </tr>\n",
              "  </tbody>\n",
              "</table>\n",
              "</div>"
            ],
            "text/plain": [
              "          Close  Predict result\n",
              "926  271.160004             NaN\n",
              "927  273.720001             NaN\n",
              "928  268.089996             NaN\n",
              "929  266.609985             NaN"
            ]
          },
          "metadata": {
            "tags": []
          },
          "execution_count": 28
        }
      ]
    },
    {
      "cell_type": "markdown",
      "metadata": {
        "id": "jb-remsFcdTl",
        "colab_type": "text"
      },
      "source": [
        "We seperate the data for training&testing with the data for prediction. We assign the data for training and testing to X. We take the whole data size and minus the future days for prediction. Later, We drop the Predict result column because we want to store every close stock price values in X."
      ]
    },
    {
      "cell_type": "code",
      "metadata": {
        "id": "lP27b_5-hA9M",
        "colab_type": "code",
        "colab": {}
      },
      "source": [
        "#Create the feature data set (x) and convert it to a numpy array and remove the last 'x' rows/days\n",
        "X = np.array(data_pre2.drop(['Predict result'],1))[:-future_days]"
      ],
      "execution_count": null,
      "outputs": []
    },
    {
      "cell_type": "markdown",
      "metadata": {
        "id": "jt72TwQUcgS6",
        "colab_type": "text"
      },
      "source": [
        "Store predict result in y"
      ]
    },
    {
      "cell_type": "code",
      "metadata": {
        "id": "gYAl1-zOhqnb",
        "colab_type": "code",
        "colab": {}
      },
      "source": [
        "#Create the target data set (y) annd convert it to a numpy array and get all of the target values expect the last 'x' rows/days\n",
        "y = np.array(data_pre2['Predict result'])[:-future_days]"
      ],
      "execution_count": null,
      "outputs": []
    },
    {
      "cell_type": "markdown",
      "metadata": {
        "id": "zzMQuFSKcjdo",
        "colab_type": "text"
      },
      "source": [
        "We use train_test_split to split the data into 25% testing and 75% training."
      ]
    },
    {
      "cell_type": "code",
      "metadata": {
        "id": "0WGYFjTPiskJ",
        "colab_type": "code",
        "colab": {}
      },
      "source": [
        "#Split the data into 75% training and 25% testing\n",
        "x_train2, x_test2, y_train2, y_test2 = train_test_split(X,y, test_size=0.25)"
      ],
      "execution_count": null,
      "outputs": []
    },
    {
      "cell_type": "markdown",
      "metadata": {
        "id": "qkRorDKsckUs",
        "colab_type": "text"
      },
      "source": [
        "We prepare the data for prediction. We assign the data and drop the predict result."
      ]
    },
    {
      "cell_type": "code",
      "metadata": {
        "id": "SysBzcE8t7Bt",
        "colab_type": "code",
        "colab": {}
      },
      "source": [
        "#Get the last 'x' rows of the future data set\n",
        "x_future = data_pre2.drop(['Predict result'],1)[:-future_days]\n",
        "x_future = x_future.tail(future_days)\n",
        "x_future = np.array(x_future)"
      ],
      "execution_count": null,
      "outputs": []
    },
    {
      "cell_type": "markdown",
      "metadata": {
        "id": "0QG7wY31FGpI",
        "colab_type": "text"
      },
      "source": [
        "###**3.3. Random Forest**"
      ]
    },
    {
      "cell_type": "markdown",
      "metadata": {
        "id": "MuXj-FscFbW1",
        "colab_type": "text"
      },
      "source": [
        "####**3.3.1. Load Data** "
      ]
    },
    {
      "cell_type": "code",
      "metadata": {
        "id": "iJQxtUVvFKUH",
        "colab_type": "code",
        "colab": {}
      },
      "source": [
        "import os\n",
        "if os.path.exists('FB.csv'):\n",
        "\n",
        "    # Load the data\n",
        "    price_data = pd.read_csv('FB.csv')\n",
        "\n",
        "else:\n",
        "\n",
        "    # Grab the data and store it.\n",
        "    grab_price_data()\n",
        "\n",
        "    # Load the data\n",
        "    price_data = pd.read_csv('FB.csv')\n",
        "\n",
        "# Display the head before moving on.\n",
        "price_data.head()"
      ],
      "execution_count": null,
      "outputs": []
    },
    {
      "cell_type": "code",
      "metadata": {
        "id": "4BKI9ilyFe3l",
        "colab_type": "code",
        "colab": {}
      },
      "source": [
        "#reorganizing data\n",
        "price_data = price_data[['Date','Open','Close','High','Low','Adj Close','Volume']]\n",
        "\n",
        "# sort the values by symbol and then date\n",
        "price_data.sort_values(by = ['Date'], inplace = True)\n",
        "price_data\n",
        "# calculate the change in price\n",
        "price_data['change_in_price'] = price_data['Close'].diff()\n",
        "price_data.head(10)"
      ],
      "execution_count": null,
      "outputs": []
    },
    {
      "cell_type": "markdown",
      "metadata": {
        "id": "zB0apnGzFhot",
        "colab_type": "text"
      },
      "source": [
        "####**3.3.2. RSI**"
      ]
    },
    {
      "cell_type": "code",
      "metadata": {
        "id": "wJpAY9vuFkod",
        "colab_type": "code",
        "colab": {}
      },
      "source": [
        "# Calculate the 14 day RSI\n",
        "n = 14\n",
        "\n",
        "# First make a copy of the data frame twice\n",
        "up_df, down_df = price_data[['change_in_price']].copy(), price_data[['change_in_price']].copy()\n",
        "\n",
        "# For up days, if the change is less than 0 set to 0.\n",
        "up_df.loc['change_in_price'] = up_df.loc[(up_df['change_in_price'] < 0), 'change_in_price'] = 0\n",
        "\n",
        "# For down days, if the change is greater than 0 set to 0.\n",
        "down_df.loc['change_in_price'] = down_df.loc[(down_df['change_in_price'] > 0), 'change_in_price'] = 0\n",
        "\n",
        "# We need change in price to be absolute.\n",
        "down_df['change_in_price'] = down_df['change_in_price'].abs()\n",
        "\n",
        "# Calculate the EWMA (Exponential Weighted Moving Average), meaning older values are given less weight compared to newer values.\n",
        "ewma_up = up_df['change_in_price'].transform(lambda x: x.ewm(span = n).mean())\n",
        "ewma_down = down_df['change_in_price'].transform(lambda x: x.ewm(span = n).mean())\n",
        "\n",
        "# Calculate the Relative Strength\n",
        "relative_strength = ewma_up / ewma_down\n",
        "\n",
        "# Calculate the Relative Strength Index\n",
        "relative_strength_index = 100.0 - (100.0 / (1.0 + relative_strength))\n",
        "\n",
        "# Add the info to the data frame.\n",
        "price_data['down_days'] = down_df['change_in_price']\n",
        "price_data['up_days'] = up_df['change_in_price']\n",
        "price_data['RSI'] = relative_strength_index\n",
        "\n",
        "# Display the head.\n",
        "price_data.head(30)"
      ],
      "execution_count": null,
      "outputs": []
    },
    {
      "cell_type": "markdown",
      "metadata": {
        "id": "9EXZl3u7FmeF",
        "colab_type": "text"
      },
      "source": [
        "####**3.3.3. Stochastic Oscillator**"
      ]
    },
    {
      "cell_type": "code",
      "metadata": {
        "id": "HxplWN1FFoDl",
        "colab_type": "code",
        "colab": {}
      },
      "source": [
        "# Calculate the Stochastic Oscillator\n",
        "n = 14\n",
        "\n",
        "# Make a copy of the high and low column.\n",
        "low_14, high_14 = price_data[['Low']].copy(), price_data[['High']].copy()\n",
        "\n",
        "# Group by symbol, then apply the rolling function and grab the Min and Max.\n",
        "low_14 = low_14['Low'].transform(lambda x: x.rolling(window = n).min())\n",
        "high_14 = high_14['High'].transform(lambda x: x.rolling(window = n).max())\n",
        "\n",
        "# Calculate the Stochastic Oscillator.\n",
        "k_percent = 100 * ((price_data['Close'] - low_14) / (high_14 - low_14))\n",
        "\n",
        "# Add the info to the data frame.\n",
        "price_data['low_14'] = low_14\n",
        "price_data['high_14'] = high_14\n",
        "price_data['k_percent'] = k_percent\n",
        "\n",
        "# Display the head.\n",
        "price_data.head(30)"
      ],
      "execution_count": null,
      "outputs": []
    },
    {
      "cell_type": "markdown",
      "metadata": {
        "id": "fEyucmaqFpat",
        "colab_type": "text"
      },
      "source": [
        "####**3.3.4. Williams %R**"
      ]
    },
    {
      "cell_type": "code",
      "metadata": {
        "id": "-EVWVMjuFq79",
        "colab_type": "code",
        "colab": {}
      },
      "source": [
        "# Calculate the Williams %R\n",
        "n = 14\n",
        "\n",
        "# Make a copy of the high and low column.\n",
        "low_14, high_14 = price_data[['Low']].copy(), price_data[['High']].copy()\n",
        "\n",
        "# Group by symbol, then apply the rolling function and grab the Min and Max.\n",
        "low_14 = low_14['Low'].transform(lambda x: x.rolling(window = n).min())\n",
        "high_14 = high_14['High'].transform(lambda x: x.rolling(window = n).max())\n",
        "\n",
        "# Calculate William %R indicator.\n",
        "r_percent = ((high_14 - price_data['Close']) / (high_14 - low_14)) * - 100\n",
        "\n",
        "# Add the info to the data frame.\n",
        "price_data['r_percent'] = r_percent\n",
        "\n",
        "# Display the head.\n",
        "price_data.head(30)"
      ],
      "execution_count": null,
      "outputs": []
    },
    {
      "cell_type": "markdown",
      "metadata": {
        "id": "32Vq_xFcFscl",
        "colab_type": "text"
      },
      "source": [
        "####**3.3.5. Moving Average Convergence Divergnece (MACD)**"
      ]
    },
    {
      "cell_type": "code",
      "metadata": {
        "id": "j8xCl5-oFug_",
        "colab_type": "code",
        "colab": {}
      },
      "source": [
        "# Calculate the MACD\n",
        "ema_26 = price_data['Close'].transform(lambda x: x.ewm(span = 26).mean())\n",
        "ema_12 = price_data['Close'].transform(lambda x: x.ewm(span = 12).mean())\n",
        "macd = ema_12 - ema_26\n",
        "\n",
        "# Calculate the EMA\n",
        "ema_9_macd = macd.ewm(span = 9).mean()\n",
        "\n",
        "# Store the data in the data frame.\n",
        "price_data['MACD'] = macd\n",
        "price_data['MACD_EMA'] = ema_9_macd\n",
        "\n",
        "# Print the head.\n",
        "price_data.head(30)"
      ],
      "execution_count": null,
      "outputs": []
    },
    {
      "cell_type": "markdown",
      "metadata": {
        "id": "P_-qLmVrFxCl",
        "colab_type": "text"
      },
      "source": [
        "####**3.3.5. Price Rate Of Change**"
      ]
    },
    {
      "cell_type": "code",
      "metadata": {
        "id": "4ikEbZmtFyUd",
        "colab_type": "code",
        "colab": {}
      },
      "source": [
        "# Calculate the Price Rate of Change\n",
        "n = 9\n",
        "\n",
        "# Calculate the Rate of Change in the Price, and store it in the Data Frame.\n",
        "price_data['Price_Rate_Of_Change'] = price_data['Close'].transform(lambda x: x.pct_change(periods = n))\n",
        "\n",
        "# Print the first 30 rows\n",
        "price_data.head(30)"
      ],
      "execution_count": null,
      "outputs": []
    },
    {
      "cell_type": "markdown",
      "metadata": {
        "id": "R9yLhBGBFzud",
        "colab_type": "text"
      },
      "source": [
        ""
      ]
    },
    {
      "cell_type": "markdown",
      "metadata": {
        "id": "FmyustiDeobn",
        "colab_type": "text"
      },
      "source": [
        "##**4. Modeling**"
      ]
    },
    {
      "cell_type": "markdown",
      "metadata": {
        "id": "oJP60faEID3c",
        "colab_type": "text"
      },
      "source": [
        "####**Model 1 : Recurrent Neural Network + Long Short Term Memory (RNN + LSTM)**\n",
        "Step 1 : Initialize the RNN with Sequential() function that provided by Keras library."
      ]
    },
    {
      "cell_type": "code",
      "metadata": {
        "id": "jfJdZuXFl8EC",
        "colab_type": "code",
        "colab": {}
      },
      "source": [
        "model = Sequential()"
      ],
      "execution_count": null,
      "outputs": []
    },
    {
      "cell_type": "markdown",
      "metadata": {
        "id": "Sub16a-dI_gV",
        "colab_type": "text"
      },
      "source": [
        "Step 2: Add the LSTM layer and later add a few Dropout layers to prevent overfitting.\n",
        "*   We add the LSTM layer with the following arguments:\n",
        "60 units (for 1st and 2nd layer), 80 units (for 3rd layer), and 120 units (for 4th layer) which are the dimensionality of the output space. \n",
        "\n",
        "*   We will be using relu activation function. The rectified linear activation\n",
        "function or ReLU for short is a piecewise linear function that will output the input directly if it is positive, otherwise, the output will be zero.\n",
        "\n",
        "\n",
        "*   We set return_sequence = True for the purpose for returning the full sequence as the output.\n",
        "\n",
        "*   \"input_shape\" is set to (X_train.shape[1],5) which is (60,5)\n",
        "\n",
        "*   When defining the Dropout layers, we specify 0.2, meaning that 20% of the layers will be dropped.\n",
        "\n",
        "*   The last layer is the Dense layer is the regular deeply connected neural network layer. We add the Dense layer (last layer) that specifies the output of 1 unit. \n"
      ]
    },
    {
      "cell_type": "code",
      "metadata": {
        "id": "rvLnqhpVIYSd",
        "colab_type": "code",
        "colab": {}
      },
      "source": [
        "#1st layer\n",
        "model.add(LSTM(units = 60, activation = 'relu', return_sequences = True, input_shape = (X_train.shape[1], 5)))\n",
        "model.add(Dropout(0.2))\n",
        "\n",
        "#2nd layer\n",
        "model.add(LSTM(units = 60, activation = 'relu', return_sequences = True))\n",
        "model.add(Dropout(0.2))\n",
        "\n",
        "#3rd layer\n",
        "model.add(LSTM(units = 80, activation = 'relu', return_sequences = True))\n",
        "model.add(Dropout(0.2))\n",
        "\n",
        "#4th layer\n",
        "model.add(LSTM(units = 120, activation = 'relu'))\n",
        "model.add(Dropout(0.2))\n",
        "\n",
        "#last layer\n",
        "model.add(Dense(units = 1))"
      ],
      "execution_count": null,
      "outputs": []
    },
    {
      "cell_type": "markdown",
      "metadata": {
        "id": "DwZhsk9wZgCM",
        "colab_type": "text"
      },
      "source": [
        "**Below show the summary details of building LSTM.**"
      ]
    },
    {
      "cell_type": "code",
      "metadata": {
        "id": "AxvRR7fvZhSO",
        "colab_type": "code",
        "colab": {
          "base_uri": "https://localhost:8080/",
          "height": 479
        },
        "outputId": "4054358d-6881-4938-81de-430918aac2d9"
      },
      "source": [
        "model.summary()"
      ],
      "execution_count": null,
      "outputs": [
        {
          "output_type": "stream",
          "text": [
            "Model: \"sequential\"\n",
            "_________________________________________________________________\n",
            "Layer (type)                 Output Shape              Param #   \n",
            "=================================================================\n",
            "lstm (LSTM)                  (None, 60, 60)            15840     \n",
            "_________________________________________________________________\n",
            "dropout (Dropout)            (None, 60, 60)            0         \n",
            "_________________________________________________________________\n",
            "lstm_1 (LSTM)                (None, 60, 60)            29040     \n",
            "_________________________________________________________________\n",
            "dropout_1 (Dropout)          (None, 60, 60)            0         \n",
            "_________________________________________________________________\n",
            "lstm_2 (LSTM)                (None, 60, 80)            45120     \n",
            "_________________________________________________________________\n",
            "dropout_2 (Dropout)          (None, 60, 80)            0         \n",
            "_________________________________________________________________\n",
            "lstm_3 (LSTM)                (None, 120)               96480     \n",
            "_________________________________________________________________\n",
            "dropout_3 (Dropout)          (None, 120)               0         \n",
            "_________________________________________________________________\n",
            "dense (Dense)                (None, 1)                 121       \n",
            "=================================================================\n",
            "Total params: 186,601\n",
            "Trainable params: 186,601\n",
            "Non-trainable params: 0\n",
            "_________________________________________________________________\n"
          ],
          "name": "stdout"
        }
      ]
    },
    {
      "cell_type": "markdown",
      "metadata": {
        "id": "zbayVgJbWpqa",
        "colab_type": "text"
      },
      "source": [
        "Step 3: Then, we compile our model using the popular \"adam\" optimizer and set the loss as the mean_squarred_error. This will compute the mean of the squared errors. Next, we fit the model to run on 50 epochs with a batch size of 32 and store in the variable, \"history\" to use displaying model loss graph later. "
      ]
    },
    {
      "cell_type": "code",
      "metadata": {
        "id": "QzBVWN2YW7Q3",
        "colab_type": "code",
        "colab": {
          "base_uri": "https://localhost:8080/",
          "height": 1000
        },
        "outputId": "e78d9b3a-0117-40a1-c8f5-666e34be0a0a"
      },
      "source": [
        "model.compile(optimizer='adam', loss = 'mean_squared_error')\n",
        "history = model.fit(X_train, y_train, epochs=50, batch_size=32, verbose=1, validation_data=(X_test, y_test), shuffle=True)           "
      ],
      "execution_count": null,
      "outputs": [
        {
          "output_type": "stream",
          "text": [
            "Epoch 1/50\n",
            "22/22 [==============================] - 4s 174ms/step - loss: 0.1003 - val_loss: 0.0473\n",
            "Epoch 2/50\n",
            "22/22 [==============================] - 3s 148ms/step - loss: 0.0149 - val_loss: 0.0658\n",
            "Epoch 3/50\n",
            "22/22 [==============================] - 3s 148ms/step - loss: 0.0129 - val_loss: 0.0438\n",
            "Epoch 4/50\n",
            "22/22 [==============================] - 3s 148ms/step - loss: 0.0122 - val_loss: 0.0390\n",
            "Epoch 5/50\n",
            "22/22 [==============================] - 3s 151ms/step - loss: 0.0110 - val_loss: 0.0414\n",
            "Epoch 6/50\n",
            "22/22 [==============================] - 3s 149ms/step - loss: 0.0112 - val_loss: 0.0526\n",
            "Epoch 7/50\n",
            "22/22 [==============================] - 3s 153ms/step - loss: 0.0101 - val_loss: 0.0456\n",
            "Epoch 8/50\n",
            "22/22 [==============================] - 3s 147ms/step - loss: 0.0091 - val_loss: 0.0290\n",
            "Epoch 9/50\n",
            "22/22 [==============================] - 3s 150ms/step - loss: 0.0097 - val_loss: 0.0906\n",
            "Epoch 10/50\n",
            "22/22 [==============================] - 3s 153ms/step - loss: 0.0092 - val_loss: 0.0350\n",
            "Epoch 11/50\n",
            "22/22 [==============================] - 3s 155ms/step - loss: 0.0097 - val_loss: 0.1042\n",
            "Epoch 12/50\n",
            "22/22 [==============================] - 3s 151ms/step - loss: 0.0084 - val_loss: 0.0558\n",
            "Epoch 13/50\n",
            "22/22 [==============================] - 3s 154ms/step - loss: 0.0073 - val_loss: 0.0352\n",
            "Epoch 14/50\n",
            "22/22 [==============================] - 3s 147ms/step - loss: 0.0075 - val_loss: 0.0641\n",
            "Epoch 15/50\n",
            "22/22 [==============================] - 3s 156ms/step - loss: 0.0071 - val_loss: 0.0576\n",
            "Epoch 16/50\n",
            "22/22 [==============================] - 3s 147ms/step - loss: 0.0079 - val_loss: 0.0619\n",
            "Epoch 17/50\n",
            "22/22 [==============================] - 3s 148ms/step - loss: 0.0074 - val_loss: 0.0711\n",
            "Epoch 18/50\n",
            "22/22 [==============================] - 3s 149ms/step - loss: 0.0064 - val_loss: 0.0584\n",
            "Epoch 19/50\n",
            "22/22 [==============================] - 3s 147ms/step - loss: 0.0070 - val_loss: 0.0676\n",
            "Epoch 20/50\n",
            "22/22 [==============================] - 3s 153ms/step - loss: 0.0075 - val_loss: 0.0691\n",
            "Epoch 21/50\n",
            "22/22 [==============================] - 3s 146ms/step - loss: 0.0072 - val_loss: 0.0555\n",
            "Epoch 22/50\n",
            "22/22 [==============================] - 3s 151ms/step - loss: 0.0069 - val_loss: 0.0657\n",
            "Epoch 23/50\n",
            "22/22 [==============================] - 3s 154ms/step - loss: 0.0063 - val_loss: 0.0656\n",
            "Epoch 24/50\n",
            "22/22 [==============================] - 3s 148ms/step - loss: 0.0065 - val_loss: 0.0682\n",
            "Epoch 25/50\n",
            "22/22 [==============================] - 3s 149ms/step - loss: 0.0070 - val_loss: 0.0790\n",
            "Epoch 26/50\n",
            "22/22 [==============================] - 3s 150ms/step - loss: 0.0061 - val_loss: 0.0699\n",
            "Epoch 27/50\n",
            "22/22 [==============================] - 3s 148ms/step - loss: 0.0061 - val_loss: 0.0834\n",
            "Epoch 28/50\n",
            "22/22 [==============================] - 3s 153ms/step - loss: 0.0066 - val_loss: 0.0683\n",
            "Epoch 29/50\n",
            "22/22 [==============================] - 3s 151ms/step - loss: 0.0062 - val_loss: 0.0636\n",
            "Epoch 30/50\n",
            "22/22 [==============================] - 3s 151ms/step - loss: 0.0062 - val_loss: 0.0667\n",
            "Epoch 31/50\n",
            "22/22 [==============================] - 3s 154ms/step - loss: 0.0061 - val_loss: 0.0591\n",
            "Epoch 32/50\n",
            "22/22 [==============================] - 3s 149ms/step - loss: 0.0054 - val_loss: 0.0512\n",
            "Epoch 33/50\n",
            "22/22 [==============================] - 3s 154ms/step - loss: 0.0057 - val_loss: 0.0592\n",
            "Epoch 34/50\n",
            "22/22 [==============================] - 3s 152ms/step - loss: 0.0063 - val_loss: 0.0636\n",
            "Epoch 35/50\n",
            "22/22 [==============================] - 3s 154ms/step - loss: 0.0061 - val_loss: 0.0886\n",
            "Epoch 36/50\n",
            "22/22 [==============================] - 3s 153ms/step - loss: 0.0062 - val_loss: 0.0736\n",
            "Epoch 37/50\n",
            "22/22 [==============================] - 3s 151ms/step - loss: 0.0053 - val_loss: 0.0775\n",
            "Epoch 38/50\n",
            "22/22 [==============================] - 3s 152ms/step - loss: 0.0056 - val_loss: 0.0673\n",
            "Epoch 39/50\n",
            "22/22 [==============================] - 3s 149ms/step - loss: 0.0052 - val_loss: 0.0635\n",
            "Epoch 40/50\n",
            "22/22 [==============================] - 3s 153ms/step - loss: 0.0056 - val_loss: 0.0549\n",
            "Epoch 41/50\n",
            "22/22 [==============================] - 3s 151ms/step - loss: 0.0053 - val_loss: 0.0685\n",
            "Epoch 42/50\n",
            "22/22 [==============================] - 3s 152ms/step - loss: 0.0054 - val_loss: 0.0783\n",
            "Epoch 43/50\n",
            "22/22 [==============================] - 3s 151ms/step - loss: 0.0049 - val_loss: 0.0583\n",
            "Epoch 44/50\n",
            "22/22 [==============================] - 3s 153ms/step - loss: 0.0054 - val_loss: 0.0631\n",
            "Epoch 45/50\n",
            "22/22 [==============================] - 3s 152ms/step - loss: 0.0051 - val_loss: 0.0492\n",
            "Epoch 46/50\n",
            "22/22 [==============================] - 3s 149ms/step - loss: 0.0050 - val_loss: 0.0524\n",
            "Epoch 47/50\n",
            "22/22 [==============================] - 4s 160ms/step - loss: 0.0060 - val_loss: 0.0920\n",
            "Epoch 48/50\n",
            "22/22 [==============================] - 3s 147ms/step - loss: 0.0051 - val_loss: 0.0687\n",
            "Epoch 49/50\n",
            "22/22 [==============================] - 3s 151ms/step - loss: 0.0048 - val_loss: 0.0761\n",
            "Epoch 50/50\n",
            "22/22 [==============================] - 3s 154ms/step - loss: 0.0055 - val_loss: 0.0879\n"
          ],
          "name": "stdout"
        }
      ]
    },
    {
      "cell_type": "markdown",
      "metadata": {
        "id": "haBYQ5yDaLOY",
        "colab_type": "text"
      },
      "source": [
        "**Below shows the plot graph of model loss.**"
      ]
    },
    {
      "cell_type": "code",
      "metadata": {
        "id": "t5Bw-TbBsog_",
        "colab_type": "code",
        "colab": {
          "base_uri": "https://localhost:8080/",
          "height": 312
        },
        "outputId": "b18cf0c3-62c2-4097-95f1-3151cadad9f0"
      },
      "source": [
        "plt.figure()\n",
        "plt.plot(history.history['loss'])\n",
        "plt.plot(history.history['val_loss'])\n",
        "plt.title('model loss')\n",
        "plt.ylabel('loss')\n",
        "plt.xlabel('epoch')\n",
        "plt.legend(['train', 'test'], loc='best')"
      ],
      "execution_count": null,
      "outputs": [
        {
          "output_type": "execute_result",
          "data": {
            "text/plain": [
              "<matplotlib.legend.Legend at 0x7f30aebbdb38>"
            ]
          },
          "metadata": {
            "tags": []
          },
          "execution_count": 37
        },
        {
          "output_type": "display_data",
          "data": {
            "image/png": "[encoded data removed]",
            "text/plain": [
              "<Figure size 432x288 with 1 Axes>"
            ]
          },
          "metadata": {
            "tags": [],
            "needs_background": "light"
          }
        }
      ]
    },
    {
      "cell_type": "markdown",
      "metadata": {
        "id": "g1LXOaOKbR_m",
        "colab_type": "text"
      },
      "source": [
        "Step 4: We predict the opening price for X_test using predict()"
      ]
    },
    {
      "cell_type": "code",
      "metadata": {
        "id": "3UoZy0WqYHNB",
        "colab_type": "code",
        "colab": {}
      },
      "source": [
        "y_pred = model.predict(X_test)"
      ],
      "execution_count": null,
      "outputs": []
    },
    {
      "cell_type": "markdown",
      "metadata": {
        "id": "VxxBXJLoa4_T",
        "colab_type": "text"
      },
      "source": [
        "Step 5: As we had scaled all the values down, now we will have to get them back to the original scale. scaler.scale_ gives the scaling level"
      ]
    },
    {
      "cell_type": "code",
      "metadata": {
        "id": "w4J0qm2PSy2z",
        "colab_type": "code",
        "colab": {
          "base_uri": "https://localhost:8080/",
          "height": 52
        },
        "outputId": "5a302781-9bc2-4a29-fba6-c638a500b035"
      },
      "source": [
        "scaler.scale_"
      ],
      "execution_count": null,
      "outputs": [
        {
          "output_type": "execute_result",
          "data": {
            "text/plain": [
              "array([1.00310962e-02, 9.92260379e-03, 1.01255567e-02, 9.93640709e-03,\n",
              "       6.10659427e-09])"
            ]
          },
          "metadata": {
            "tags": []
          },
          "execution_count": 39
        }
      ]
    },
    {
      "cell_type": "markdown",
      "metadata": {
        "id": "UzPzUfh_aU1R",
        "colab_type": "text"
      },
      "source": [
        "Step 6: Referring to the previous result, 1.00310962e-02 is the first value in the list which gives the scale of opening price. We will multiply y_pred and y_test with the inverse of this to get all the values to the original scale."
      ]
    },
    {
      "cell_type": "code",
      "metadata": {
        "id": "Hqwk_oJzSyjy",
        "colab_type": "code",
        "colab": {}
      },
      "source": [
        "scale = 1/1.00310962e-02\n",
        "\n",
        "actual_stock_price = y_test*scale\n",
        "predicted_stock_price = y_pred*scale"
      ],
      "execution_count": null,
      "outputs": []
    },
    {
      "cell_type": "code",
      "metadata": {
        "id": "9Zb5TSW9aU04",
        "colab_type": "code",
        "colab": {
          "base_uri": "https://localhost:8080/",
          "height": 350
        },
        "outputId": "9b90b526-7a76-4029-b688-9d2523dc8984"
      },
      "source": [
        "# Visualising the results\n",
        "plt.figure(figsize=(14,5))\n",
        "plt.plot(actual_stock_price, color = 'red', label = 'Actual Facebook Stock Price')\n",
        "plt.plot(predicted_stock_price, color = 'blue', label = 'Predicted Facebook Stock Price')\n",
        "plt.title('Facebook Stock Price Prediction Using RNN + LSTM')\n",
        "plt.xlabel('Time')\n",
        "plt.ylabel('Stock Price')\n",
        "plt.legend()\n",
        "plt.show()"
      ],
      "execution_count": null,
      "outputs": [
        {
          "output_type": "display_data",
          "data": {
            "image/png": "[encoded data removed]",
            "text/plain": [
              "<Figure size 1008x360 with 1 Axes>"
            ]
          },
          "metadata": {
            "tags": [],
            "needs_background": "light"
          }
        }
      ]
    },
    {
      "cell_type": "markdown",
      "metadata": {
        "id": "_KbWJCCIj-18",
        "colab_type": "text"
      },
      "source": [
        "####**Model 2 : Decision Tree Regressor**"
      ]
    },
    {
      "cell_type": "markdown",
      "metadata": {
        "id": "ZGk-MqGycrh8",
        "colab_type": "text"
      },
      "source": [
        "Step 1: We use decision tree regressor to calculate and predict the future stock price. First, we fit the regressor with x train and y train data. Later, we predict the x future data to get the future stock price."
      ]
    },
    {
      "cell_type": "code",
      "metadata": {
        "id": "0m9qYtCekvNd",
        "colab_type": "code",
        "colab": {
          "base_uri": "https://localhost:8080/",
          "height": 106
        },
        "outputId": "a38ad93c-d821-4b58-f2d0-7b3658939669"
      },
      "source": [
        "#Create the decision tree regressor regressor\n",
        "tree = DecisionTreeRegressor().fit(x_train2,y_train2)\n",
        "tree_prediction = tree.predict(x_future)\n",
        "print(tree_prediction)"
      ],
      "execution_count": null,
      "outputs": [
        {
          "output_type": "stream",
          "text": [
            "[268.440002 262.794998 262.794998 259.890015 261.299988 261.23999\n",
            " 261.160004 262.339996 262.794998 262.794998 267.01001  271.390015\n",
            " 267.01001  303.910004 241.75     244.5      293.200012 295.440002\n",
            " 302.5      291.119995 282.730011 271.160004 273.720001 268.089996\n",
            " 282.730011]\n"
          ],
          "name": "stdout"
        }
      ]
    },
    {
      "cell_type": "markdown",
      "metadata": {
        "id": "O6WAj6-Zcw9J",
        "colab_type": "text"
      },
      "source": [
        "Step 2: We visualize the data. We assign the result of decision tree regressor prediction. Plot the figure with days and close stock price. The original stock price and the predicted stock price will be shown with different colors in the figure below."
      ]
    },
    {
      "cell_type": "code",
      "metadata": {
        "id": "pOdSTLfF3FYf",
        "colab_type": "code",
        "colab": {
          "base_uri": "https://localhost:8080/",
          "height": 620
        },
        "outputId": "41dd4211-8642-46c0-d122-d2729cd5bd7d"
      },
      "source": [
        "#Visualize data\n",
        "prediction = tree_prediction\n",
        "\n",
        "valid=data_pre2[X.shape[0]:]\n",
        "valid['Predict result'] = prediction\n",
        "plt.figure(figsize=(16,8))\n",
        "plt.title('Decision Tree Regressor Model')\n",
        "plt.xlabel('Days')\n",
        "plt.ylabel('Close Stock Price')\n",
        "plt.plot(data_pre2['Close'])\n",
        "plt.plot(valid[['Close','Predict result']])\n",
        "plt.legend(['Original','Val','Predicted'])\n",
        "plt.show()"
      ],
      "execution_count": null,
      "outputs": [
        {
          "output_type": "stream",
          "text": [
            "/usr/local/lib/python3.6/dist-packages/ipykernel_launcher.py:5: SettingWithCopyWarning: \n",
            "A value is trying to be set on a copy of a slice from a DataFrame.\n",
            "Try using .loc[row_indexer,col_indexer] = value instead\n",
            "\n",
            "See the caveats in the documentation: https://pandas.pydata.org/pandas-docs/stable/user_guide/indexing.html#returning-a-view-versus-a-copy\n",
            "  \"\"\"\n"
          ],
          "name": "stderr"
        },
        {
          "output_type": "display_data",
          "data": {
            "image/png": "[encoded data removed]",
            "text/plain": [
              "<Figure size 1152x576 with 1 Axes>"
            ]
          },
          "metadata": {
            "tags": [],
            "needs_background": "light"
          }
        }
      ]
    },
    {
      "cell_type": "markdown",
      "metadata": {
        "id": "tiGOMSL5lRfg",
        "colab_type": "text"
      },
      "source": [
        "####**Model 3 : Linear Regression**"
      ]
    },
    {
      "cell_type": "markdown",
      "metadata": {
        "id": "hCViP_Owc3pv",
        "colab_type": "text"
      },
      "source": [
        "Step 1: We use linear regression to calculate and predict the future stock price. First, we fit the regressor with x train and y train data. Later, we predict the x future data to get the future stock price."
      ]
    },
    {
      "cell_type": "code",
      "metadata": {
        "id": "1RxIEM78lIJ6",
        "colab_type": "code",
        "colab": {
          "base_uri": "https://localhost:8080/",
          "height": 106
        },
        "outputId": "92ca98e9-e199-4847-810e-59aea0330bde"
      },
      "source": [
        "#Create the linear regression regressor\n",
        "lr = LinearRegression().fit(x_train2,y_train2)\n",
        "lr_prediction = lr.predict(x_future)\n",
        "print(lr_prediction)\n",
        "\n"
      ],
      "execution_count": null,
      "outputs": [
        {
          "output_type": "stream",
          "text": [
            "[231.55765077 237.68410814 238.20209021 240.63124003 241.45286214\n",
            " 241.96191799 236.54098013 237.19291726 237.68410814 238.26459793\n",
            " 239.24697969 242.27448426 238.99692113 237.31794609 230.82534096\n",
            " 229.13744057 231.62909811 228.61051888 231.44154727 232.52216757\n",
            " 249.64230728 248.11516655 246.21292414 245.57883857 260.01084458]\n"
          ],
          "name": "stdout"
        }
      ]
    },
    {
      "cell_type": "markdown",
      "metadata": {
        "id": "lxFsuzVGc9LW",
        "colab_type": "text"
      },
      "source": [
        "Step 2: We visualize the data. We assign the result of linear regression prediction. Plot the figure with days and close stock price. The original stock price and the predicted stock price will be shown with different colors in the figure below."
      ]
    },
    {
      "cell_type": "code",
      "metadata": {
        "id": "ydKWb4TU4abJ",
        "colab_type": "code",
        "colab": {
          "base_uri": "https://localhost:8080/",
          "height": 620
        },
        "outputId": "713879b3-62fc-4d5c-94dd-fbd879de5727"
      },
      "source": [
        "#Visualize data\n",
        "prediction = lr_prediction\n",
        "\n",
        "valid=data_pre2[X.shape[0]:]\n",
        "valid['Predict result'] = prediction\n",
        "plt.figure(figsize=(16,8))\n",
        "plt.title('Linear Regression regressor')\n",
        "plt.xlabel('Days')\n",
        "plt.ylabel('Close Stock Price')\n",
        "plt.plot(data_pre2['Close'])\n",
        "plt.plot(valid[['Close','Predict result']])\n",
        "plt.legend(['Original','Val','Predicted'])\n",
        "plt.show()"
      ],
      "execution_count": null,
      "outputs": [
        {
          "output_type": "stream",
          "text": [
            "/usr/local/lib/python3.6/dist-packages/ipykernel_launcher.py:5: SettingWithCopyWarning: \n",
            "A value is trying to be set on a copy of a slice from a DataFrame.\n",
            "Try using .loc[row_indexer,col_indexer] = value instead\n",
            "\n",
            "See the caveats in the documentation: https://pandas.pydata.org/pandas-docs/stable/user_guide/indexing.html#returning-a-view-versus-a-copy\n",
            "  \"\"\"\n"
          ],
          "name": "stderr"
        },
        {
          "output_type": "display_data",
          "data": {
            "image/png": "[encoded data removed]",
            "text/plain": [
              "<Figure size 1152x576 with 1 Axes>"
            ]
          },
          "metadata": {
            "tags": [],
            "needs_background": "light"
          }
        }
      ]
    },
    {
      "cell_type": "markdown",
      "metadata": {
        "id": "ij1T5DmuGQev",
        "colab_type": "text"
      },
      "source": [
        "####**Model 4 : Random Forest**"
      ]
    },
    {
      "cell_type": "markdown",
      "metadata": {
        "id": "6abzvjGVGV_H",
        "colab_type": "text"
      },
      "source": [
        "**Creating the Prediction Column**"
      ]
    },
    {
      "cell_type": "code",
      "metadata": {
        "id": "GRK3CHtwGZiO",
        "colab_type": "code",
        "colab": {}
      },
      "source": [
        "# Group by the `Symbol` column, then grab the `Close` column.\n",
        "close_groups = price_data['Close']\n",
        "\n",
        "# Apply the lambda function which will return -1.0 for down, 1.0 for up and 0.0 for no change.\n",
        "close_groups = close_groups.transform(lambda x : np.sign(x.diff()))\n",
        "\n",
        "# add the data to the main dataframe.\n",
        "price_data['Prediction'] = close_groups\n",
        "\n",
        "# for simplicity in later sections I'm going to make a change to our prediction column. To keep this as a binary classifier I'll change flat days and consider them up days.\n",
        "price_data.loc[price_data['Prediction'] == 0.0] = 1.0\n",
        "\n",
        "# print the head\n",
        "price_data.head(50)\n",
        "\n",
        "# OPTIONAL CODE: Dump the data frame to a CSV file to examine the data yourself.\n",
        "# price_data.to_csv('final_metrics.csv')"
      ],
      "execution_count": null,
      "outputs": []
    },
    {
      "cell_type": "markdown",
      "metadata": {
        "id": "id9jrcr2Gcbd",
        "colab_type": "text"
      },
      "source": [
        "**Removing null value**"
      ]
    },
    {
      "cell_type": "code",
      "metadata": {
        "id": "90lawn6IGkoX",
        "colab_type": "code",
        "colab": {}
      },
      "source": [
        "\n",
        "# We need to remove all rows that have an NaN value.\n",
        "print('Before NaN Drop we have {} rows and {} columns'.format(price_data.shape[0], price_data.shape[1]))\n",
        "\n",
        "# Any row that has a `NaN` value will be dropped.\n",
        "price_data = price_data.dropna()\n",
        "\n",
        "# Display how much we have left now.\n",
        "print('After NaN Drop we have {} rows and {} columns'.format(price_data.shape[0], price_data.shape[1]))\n",
        "\n",
        "# Print the head.\n",
        "price_data.head()"
      ],
      "execution_count": null,
      "outputs": []
    },
    {
      "cell_type": "markdown",
      "metadata": {
        "id": "eujx2TpjGmAG",
        "colab_type": "text"
      },
      "source": [
        "**Splitting the Data**"
      ]
    },
    {
      "cell_type": "code",
      "metadata": {
        "id": "nX6UHvGtGnum",
        "colab_type": "code",
        "colab": {}
      },
      "source": [
        "from sklearn.ensemble import RandomForestClassifier\n",
        "from sklearn.model_selection import train_test_split\n",
        "# Grab our X & Y Columns.\n",
        "X_Cols = price_data[['RSI','k_percent','r_percent','Price_Rate_Of_Change','MACD']]\n",
        "Y_Cols = price_data['Prediction']\n",
        "\n",
        "# Split X and y into X_\n",
        "X_train, X_test, y_train, y_test = train_test_split(X_Cols, Y_Cols, random_state = 0)\n",
        "\n",
        "# Create a Random Forest Classifier\n",
        "rand_frst_clf = RandomForestClassifier(n_estimators = 100, oob_score = True, criterion = \"gini\", random_state = 0)\n",
        "\n",
        "# Fit the data to the model\n",
        "rand_frst_clf.fit(X_train, y_train)\n",
        "\n",
        "# Make predictions\n",
        "y_pred = rand_frst_clf.predict(X_test)"
      ],
      "execution_count": null,
      "outputs": []
    },
    {
      "cell_type": "markdown",
      "metadata": {
        "colab_type": "text",
        "id": "zyp1hpW5atRE"
      },
      "source": [
        "##**5. Evaluation**"
      ]
    },
    {
      "cell_type": "markdown",
      "metadata": {
        "id": "CHD-HsyEfRjQ",
        "colab_type": "text"
      },
      "source": [
        "We will evaluate how these 3 predicted models are the responsible to reach our objectives: prediciction accuracy and insight.\n",
        "\n",
        "LSTM should provide a better accuracy, since it is RNN based which can preserve the previous trained weights for the next training iteration. It is important so that business owner/ user can know the insight of the data trend correctly and has higher creditibiliy to make decision and rely on the system. The reason it is not performed well may because the feature selected is not enough for us to train.\n",
        "\n",
        "Besides, the decision tree has only reached around 49% of accuracy score, although the visualized graph seemed it is accurate. This may because of the testing datasets that was auto splitted is not understand by the desision tree model. Thus, we evaluated if we overtrained the model by looking at how is the RMSE. The result is around 21.61, we are not overtrain the model. We conclude that the model is not well-trained. This may be caused by the features (X) selected for training is too less. This can be improved by using more features.\n",
        "\n",
        "The linear regression model has RMSE of around 17.63, which is abit high and considered as the regression line has good fit to the actual dataset. This indicate that we did not overtrain the model which will produce inaccurate result. Another reason for this is we have preprocessed date by using Closing Price to train. This is considered good because user can have a quite correct insight on how is the closing price of predicted next day. Also, it can be improved by increase number of features for training.\n",
        "\n",
        "\n"
      ]
    },
    {
      "cell_type": "code",
      "metadata": {
        "id": "D6ObNSh790n9",
        "colab_type": "code",
        "colab": {
          "base_uri": "https://localhost:8080/",
          "height": 70
        },
        "outputId": "8a92cb59-461e-4771-a476-3e51ecdb4b1a"
      },
      "source": [
        "######################## decision tree ##############\n",
        "from sklearn import metrics\n",
        "print('Score = ' , tree.score(x_test2, y_test2)) #score\n",
        "y_pred = tree.predict(x_test2)\n",
        "print('RMSE of decision tree = ', np.sqrt(metrics.mean_squared_error(y_test2, y_pred))) # RMSE \n",
        "######################## linear regression ##############\n",
        "from sklearn import metrics\n",
        "y_pred = lr.predict(x_test2)\n",
        "print('RMSE of linear regression = ', np.sqrt(metrics.mean_squared_error(y_test2, y_pred))) # RMSE \n"
      ],
      "execution_count": null,
      "outputs": [
        {
          "output_type": "stream",
          "text": [
            "Score =  0.4941073202090089\n",
            "RMSE of decision tree =  21.4728880633902\n",
            "RMSE of linear regression =  17.70619677573663\n"
          ],
          "name": "stdout"
        }
      ]
    },
    {
      "cell_type": "markdown",
      "metadata": {
        "id": "uHGDbTcO7RBC",
        "colab_type": "text"
      },
      "source": [
        "This section evaluate the regressor with . \n",
        "- is regressor efficient to our business?\n",
        "- findings?\n",
        "- challenge/oppoutunity"
      ]
    },
    {
      "cell_type": "markdown",
      "metadata": {
        "id": "fUN0hKfMGyxe",
        "colab_type": "text"
      },
      "source": [
        "**Model Evaluation: Accuracy**"
      ]
    },
    {
      "cell_type": "code",
      "metadata": {
        "id": "u6RV_LcZG0AG",
        "colab_type": "code",
        "colab": {}
      },
      "source": [
        "\n",
        "from sklearn.metrics import plot_roc_curve\n",
        "from sklearn.metrics import accuracy_score, classification_report\n",
        "# Print the Accuracy of our Model.\n",
        "print('Correct Prediction (%): ', accuracy_score(y_test, rand_frst_clf.predict(X_test), normalize = True) * 100.0)"
      ],
      "execution_count": null,
      "outputs": []
    },
    {
      "cell_type": "markdown",
      "metadata": {
        "id": "LYRlH6yFGrVm",
        "colab_type": "text"
      },
      "source": [
        "**Model Evaluation: Classification Report for Random Forest**"
      ]
    },
    {
      "cell_type": "code",
      "metadata": {
        "id": "c4moBSIcGvvu",
        "colab_type": "code",
        "colab": {}
      },
      "source": [
        "# Define the traget names\n",
        "target_names = ['Down Day', 'Up Day']\n",
        "\n",
        "# Build a classifcation report\n",
        "report = classification_report(y_true = y_test, y_pred = y_pred, target_names = target_names, output_dict = True)\n",
        "\n",
        "# Add it to a data frame, transpose it for readability.\n",
        "report_df = pd.DataFrame(report).transpose()\n",
        "report_df"
      ],
      "execution_count": null,
      "outputs": []
    },
    {
      "cell_type": "markdown",
      "metadata": {
        "id": "ujCHAQrGG3o-",
        "colab_type": "text"
      },
      "source": [
        "**Model Evaluation: Confusion Matrix**"
      ]
    },
    {
      "cell_type": "code",
      "metadata": {
        "id": "OuF_-MkGG4H2",
        "colab_type": "code",
        "colab": {}
      },
      "source": [
        "from sklearn.metrics import confusion_matrix, plot_confusion_matrix\n",
        "\n",
        "rf_matrix = confusion_matrix(y_test, y_pred)\n",
        "\n",
        "true_negatives = rf_matrix[0][0]\n",
        "false_negatives = rf_matrix[1][0]\n",
        "true_positives = rf_matrix[1][1]\n",
        "false_positives = rf_matrix[0][1]\n",
        "\n",
        "accuracy = (true_negatives + true_positives) / (true_negatives + true_positives + false_negatives + false_positives)\n",
        "percision = true_positives / (true_positives + false_positives)\n",
        "recall = true_positives / (true_positives + false_negatives)\n",
        "specificity = true_negatives / (true_negatives + false_positives)\n",
        "\n",
        "print('Accuracy: {}'.format(float(accuracy)))\n",
        "print('Percision: {}'.format(float(percision)))\n",
        "print('Recall: {}'.format(float(recall)))\n",
        "print('Specificity: {}'.format(float(specificity)))\n",
        "\n",
        "disp = plot_confusion_matrix(rand_frst_clf, X_test, y_test, display_labels = ['Down Day', 'Up Day'], normalize = 'true', cmap=plt.cm.Blues)\n",
        "disp.ax_.set_title('Confusion Matrix - Normalized')\n",
        "plt.show()"
      ],
      "execution_count": null,
      "outputs": []
    },
    {
      "cell_type": "markdown",
      "metadata": {
        "id": "oD1V6RUpeo5-",
        "colab_type": "text"
      },
      "source": [
        "##**6. Deployment**"
      ]
    },
    {
      "cell_type": "markdown",
      "metadata": {
        "id": "akc414c48cGS",
        "colab_type": "text"
      },
      "source": [
        "The visualized diagram should be added to a dashboard using library like tensorboard, dash and so on. The dashboard can let user interactive with it, know the insight/trends of stock price and the prediction when deployed in produciton business environment. The dashboard is connected to a server port, which need some API to implement it.\n"
      ]
    },
    {
      "cell_type": "markdown",
      "metadata": {
        "id": "_YeTqpvN-1MB",
        "colab_type": "text"
      },
      "source": [
        "## **7.** **Conclusion**\n"
      ]
    },
    {
      "cell_type": "markdown",
      "metadata": {
        "id": "AJjE40xF-749",
        "colab_type": "text"
      },
      "source": [
        "In conclusion, actually LSTM-RNN is better for the stock prediction which is time series data. Also, the feature selected for training should be understand and prepared enough to ensure the model accuracy is high. Thus, data preparation like feature engineering is extremely important before we select what data is useful to be our training data."
      ]
    }
  ]
}